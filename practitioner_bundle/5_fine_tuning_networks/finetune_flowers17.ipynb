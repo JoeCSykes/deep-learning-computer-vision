{
 "nbformat": 4,
 "nbformat_minor": 0,
 "metadata": {
  "colab": {
   "provenance": [],
   "gpuType": "T4",
   "authorship_tag": "ABX9TyMDoI3vJtAW8uwRQF8Z37TG"
  },
  "kernelspec": {
   "name": "python3",
   "display_name": "Python 3"
  },
  "language_info": {
   "name": "python"
  },
  "accelerator": "GPU"
 },
 "cells": [
  {
   "cell_type": "code",
   "source": [
    "!unzip flowers17.zip"
   ],
   "metadata": {
    "colab": {
     "base_uri": "https://localhost:8080/"
    },
    "id": "rUo8EauzrR7-",
    "executionInfo": {
     "status": "ok",
     "timestamp": 1695403939246,
     "user_tz": -60,
     "elapsed": 7985,
     "user": {
      "displayName": "Joseph Sykes",
      "userId": "13195148787507540165"
     }
    },
    "outputId": "7694e5dc-d8b7-42e1-818c-21ebad1187c9"
   },
   "execution_count": 1,
   "outputs": [
    {
     "output_type": "stream",
     "name": "stdout",
     "text": [
      "Archive:  flowers17.zip\n",
      "replace flowers17/bluebell/image_0241.jpg? [y]es, [n]o, [A]ll, [N]one, [r]ename: "
     ]
    }
   ]
  },
  {
   "cell_type": "code",
   "source": [
    "!pip install keras_cv\n",
    "!pip install keras_core"
   ],
   "metadata": {
    "colab": {
     "base_uri": "https://localhost:8080/"
    },
    "id": "QovtPt3SrW7P",
    "executionInfo": {
     "status": "ok",
     "timestamp": 1695403947348,
     "user_tz": -60,
     "elapsed": 8107,
     "user": {
      "displayName": "Joseph Sykes",
      "userId": "13195148787507540165"
     }
    },
    "outputId": "bd187d4a-4434-432f-c73d-4e959bdb9d14"
   },
   "execution_count": 2,
   "outputs": [
    {
     "output_type": "stream",
     "name": "stdout",
     "text": [
      "Requirement already satisfied: keras_cv in /usr/local/lib/python3.10/dist-packages (0.6.4)\n",
      "Requirement already satisfied: packaging in /usr/local/lib/python3.10/dist-packages (from keras_cv) (23.1)\n",
      "Requirement already satisfied: absl-py in /usr/local/lib/python3.10/dist-packages (from keras_cv) (1.4.0)\n",
      "Requirement already satisfied: regex in /usr/local/lib/python3.10/dist-packages (from keras_cv) (2023.6.3)\n",
      "Requirement already satisfied: tensorflow-datasets in /usr/local/lib/python3.10/dist-packages (from keras_cv) (4.9.2)\n",
      "Requirement already satisfied: keras-core in /usr/local/lib/python3.10/dist-packages (from keras_cv) (0.1.7)\n",
      "Requirement already satisfied: numpy in /usr/local/lib/python3.10/dist-packages (from keras-core->keras_cv) (1.23.5)\n",
      "Requirement already satisfied: rich in /usr/local/lib/python3.10/dist-packages (from keras-core->keras_cv) (13.5.2)\n",
      "Requirement already satisfied: namex in /usr/local/lib/python3.10/dist-packages (from keras-core->keras_cv) (0.0.7)\n",
      "Requirement already satisfied: h5py in /usr/local/lib/python3.10/dist-packages (from keras-core->keras_cv) (3.9.0)\n",
      "Requirement already satisfied: dm-tree in /usr/local/lib/python3.10/dist-packages (from keras-core->keras_cv) (0.1.8)\n",
      "Requirement already satisfied: array-record in /usr/local/lib/python3.10/dist-packages (from tensorflow-datasets->keras_cv) (0.4.1)\n",
      "Requirement already satisfied: click in /usr/local/lib/python3.10/dist-packages (from tensorflow-datasets->keras_cv) (8.1.7)\n",
      "Requirement already satisfied: etils[enp,epath]>=0.9.0 in /usr/local/lib/python3.10/dist-packages (from tensorflow-datasets->keras_cv) (1.4.1)\n",
      "Requirement already satisfied: promise in /usr/local/lib/python3.10/dist-packages (from tensorflow-datasets->keras_cv) (2.3)\n",
      "Requirement already satisfied: protobuf>=3.20 in /usr/local/lib/python3.10/dist-packages (from tensorflow-datasets->keras_cv) (3.20.3)\n",
      "Requirement already satisfied: psutil in /usr/local/lib/python3.10/dist-packages (from tensorflow-datasets->keras_cv) (5.9.5)\n",
      "Requirement already satisfied: requests>=2.19.0 in /usr/local/lib/python3.10/dist-packages (from tensorflow-datasets->keras_cv) (2.31.0)\n",
      "Requirement already satisfied: tensorflow-metadata in /usr/local/lib/python3.10/dist-packages (from tensorflow-datasets->keras_cv) (1.14.0)\n",
      "Requirement already satisfied: termcolor in /usr/local/lib/python3.10/dist-packages (from tensorflow-datasets->keras_cv) (2.3.0)\n",
      "Requirement already satisfied: toml in /usr/local/lib/python3.10/dist-packages (from tensorflow-datasets->keras_cv) (0.10.2)\n",
      "Requirement already satisfied: tqdm in /usr/local/lib/python3.10/dist-packages (from tensorflow-datasets->keras_cv) (4.66.1)\n",
      "Requirement already satisfied: wrapt in /usr/local/lib/python3.10/dist-packages (from tensorflow-datasets->keras_cv) (1.15.0)\n",
      "Requirement already satisfied: importlib_resources in /usr/local/lib/python3.10/dist-packages (from etils[enp,epath]>=0.9.0->tensorflow-datasets->keras_cv) (6.0.1)\n",
      "Requirement already satisfied: typing_extensions in /usr/local/lib/python3.10/dist-packages (from etils[enp,epath]>=0.9.0->tensorflow-datasets->keras_cv) (4.5.0)\n",
      "Requirement already satisfied: zipp in /usr/local/lib/python3.10/dist-packages (from etils[enp,epath]>=0.9.0->tensorflow-datasets->keras_cv) (3.16.2)\n",
      "Requirement already satisfied: charset-normalizer<4,>=2 in /usr/local/lib/python3.10/dist-packages (from requests>=2.19.0->tensorflow-datasets->keras_cv) (3.2.0)\n",
      "Requirement already satisfied: idna<4,>=2.5 in /usr/local/lib/python3.10/dist-packages (from requests>=2.19.0->tensorflow-datasets->keras_cv) (3.4)\n",
      "Requirement already satisfied: urllib3<3,>=1.21.1 in /usr/local/lib/python3.10/dist-packages (from requests>=2.19.0->tensorflow-datasets->keras_cv) (2.0.4)\n",
      "Requirement already satisfied: certifi>=2017.4.17 in /usr/local/lib/python3.10/dist-packages (from requests>=2.19.0->tensorflow-datasets->keras_cv) (2023.7.22)\n",
      "Requirement already satisfied: six in /usr/local/lib/python3.10/dist-packages (from promise->tensorflow-datasets->keras_cv) (1.16.0)\n",
      "Requirement already satisfied: markdown-it-py>=2.2.0 in /usr/local/lib/python3.10/dist-packages (from rich->keras-core->keras_cv) (3.0.0)\n",
      "Requirement already satisfied: pygments<3.0.0,>=2.13.0 in /usr/local/lib/python3.10/dist-packages (from rich->keras-core->keras_cv) (2.16.1)\n",
      "Requirement already satisfied: googleapis-common-protos<2,>=1.52.0 in /usr/local/lib/python3.10/dist-packages (from tensorflow-metadata->tensorflow-datasets->keras_cv) (1.60.0)\n",
      "Requirement already satisfied: mdurl~=0.1 in /usr/local/lib/python3.10/dist-packages (from markdown-it-py>=2.2.0->rich->keras-core->keras_cv) (0.1.2)\n",
      "Requirement already satisfied: keras_core in /usr/local/lib/python3.10/dist-packages (0.1.7)\n",
      "Requirement already satisfied: absl-py in /usr/local/lib/python3.10/dist-packages (from keras_core) (1.4.0)\n",
      "Requirement already satisfied: numpy in /usr/local/lib/python3.10/dist-packages (from keras_core) (1.23.5)\n",
      "Requirement already satisfied: rich in /usr/local/lib/python3.10/dist-packages (from keras_core) (13.5.2)\n",
      "Requirement already satisfied: namex in /usr/local/lib/python3.10/dist-packages (from keras_core) (0.0.7)\n",
      "Requirement already satisfied: h5py in /usr/local/lib/python3.10/dist-packages (from keras_core) (3.9.0)\n",
      "Requirement already satisfied: dm-tree in /usr/local/lib/python3.10/dist-packages (from keras_core) (0.1.8)\n",
      "Requirement already satisfied: markdown-it-py>=2.2.0 in /usr/local/lib/python3.10/dist-packages (from rich->keras_core) (3.0.0)\n",
      "Requirement already satisfied: pygments<3.0.0,>=2.13.0 in /usr/local/lib/python3.10/dist-packages (from rich->keras_core) (2.16.1)\n",
      "Requirement already satisfied: mdurl~=0.1 in /usr/local/lib/python3.10/dist-packages (from markdown-it-py>=2.2.0->rich->keras_core) (0.1.2)\n"
     ]
    }
   ]
  },
  {
   "cell_type": "code",
   "source": [
    "import imutils\n",
    "import cv2\n",
    "\n",
    "\n",
    "class AspectAwarePreprocessor:\n",
    "    def __init__(self, width, height, inter=cv2.INTER_AREA):\n",
    "        self.width = width\n",
    "        self.height = height\n",
    "        self.inter = inter\n",
    "\n",
    "    def preprocess(self, image):\n",
    "        (h, w) = image.shape[:2]\n",
    "        dW = 0\n",
    "        dH = 0\n",
    "\n",
    "        # resize wrt shortest img dimension\n",
    "        if w < h:\n",
    "            image = imutils.resize(image, width=self.width, inter=self.inter)\n",
    "            dH = int((image.shape[0] - self.height) / 2.0)\n",
    "        else:\n",
    "            image = imutils.resize(image, height=self.height, inter=self.inter)\n",
    "            dW = int((image.shape[1] - self.width) / 2.0)\n",
    "\n",
    "        # crop to achieve desired image size\n",
    "        (h, w) = image.shape[:2]\n",
    "        image = image[dH: h - dH, dW: w - dW]\n",
    "\n",
    "        # resize again to ensure no rounding errors after cropping\n",
    "        return cv2.resize(image, (self.width, self.height), interpolation=self.inter)\n"
   ],
   "metadata": {
    "id": "0edZsSafqMa6",
    "executionInfo": {
     "status": "ok",
     "timestamp": 1695403947349,
     "user_tz": -60,
     "elapsed": 4,
     "user": {
      "displayName": "Joseph Sykes",
      "userId": "13195148787507540165"
     }
    }
   },
   "execution_count": 3,
   "outputs": []
  },
  {
   "cell_type": "code",
   "source": [
    "from keras.preprocessing.image import img_to_array\n",
    "\n",
    "\n",
    "class ImageToArrayPreprocessor:\n",
    "    def __init__(self, data_format=None):\n",
    "        self.data_format = data_format\n",
    "\n",
    "    def preprocess(self, image):\n",
    "        return img_to_array(image, data_format=self.data_format)"
   ],
   "metadata": {
    "id": "WtEt7pK-qPQQ",
    "executionInfo": {
     "status": "ok",
     "timestamp": 1695403954598,
     "user_tz": -60,
     "elapsed": 7252,
     "user": {
      "displayName": "Joseph Sykes",
      "userId": "13195148787507540165"
     }
    }
   },
   "execution_count": 4,
   "outputs": []
  },
  {
   "cell_type": "code",
   "source": [
    "import numpy as np\n",
    "import cv2\n",
    "import os\n",
    "\n",
    "\n",
    "class SimpleDatasetLoader:\n",
    "    def __init__(self, preprocessors=None):\n",
    "        # store img preprocessor\n",
    "        self.preprocessors = preprocessors\n",
    "\n",
    "        if self.preprocessors is None:\n",
    "            self.preprocessors = []\n",
    "\n",
    "    def load(self, image_paths: list[str], verbose=-1) -> tuple[np.ndarray, np.ndarray]:\n",
    "        data = []\n",
    "        labels = []\n",
    "\n",
    "        for (i, image_path) in enumerate(image_paths):\n",
    "            # load img and extract class label assuming\n",
    "            # path has following format:\n",
    "            # /path/to/dataset/{class}/{image}.jpg\n",
    "            image = cv2.imread(image_path)\n",
    "            label = image_path.split(os.path.sep)[-2]\n",
    "\n",
    "            if self.preprocessors is not None:\n",
    "                for p in self.preprocessors:\n",
    "                    image = p.preprocess(image)\n",
    "\n",
    "                data.append(image)\n",
    "                labels.append(label)\n",
    "\n",
    "            if verbose > 0 and i > 0 and (i+1) % verbose == 0:\n",
    "                print(f\"[INFO] processed {i+1}/{len(image_paths)}\")\n",
    "\n",
    "        return np.array(data), np.array(labels)\n"
   ],
   "metadata": {
    "id": "gwNu1wJ6qSsK",
    "executionInfo": {
     "status": "ok",
     "timestamp": 1695403954599,
     "user_tz": -60,
     "elapsed": 7,
     "user": {
      "displayName": "Joseph Sykes",
      "userId": "13195148787507540165"
     }
    }
   },
   "execution_count": 5,
   "outputs": []
  },
  {
   "cell_type": "code",
   "source": [
    "from keras import Sequential\n",
    "from keras_cv.layers import RandomFlip, RandomRotation, RandomTranslation, RandomZoom, RandomShear\n",
    "\n",
    "\n",
    "class DataAugmentor:\n",
    "\n",
    "    @staticmethod\n",
    "    def build(model):\n",
    "        data_augmentation = Sequential([\n",
    "            RandomRotation(0.1),\n",
    "            RandomTranslation(height_factor=0.1, width_factor=0.1),\n",
    "            RandomShear(0.2),\n",
    "            RandomZoom(0.2),\n",
    "            RandomFlip(\"horizontal\"),\n",
    "        ])\n",
    "\n",
    "        model = Sequential([data_augmentation, model])\n",
    "\n",
    "        return model\n"
   ],
   "metadata": {
    "colab": {
     "base_uri": "https://localhost:8080/"
    },
    "id": "wBITOT7uq7Dx",
    "executionInfo": {
     "status": "ok",
     "timestamp": 1695403958013,
     "user_tz": -60,
     "elapsed": 3420,
     "user": {
      "displayName": "Joseph Sykes",
      "userId": "13195148787507540165"
     }
    },
    "outputId": "e184a89c-2ae1-41c2-db66-cb234b9743b1"
   },
   "execution_count": 6,
   "outputs": [
    {
     "output_type": "stream",
     "name": "stdout",
     "text": [
      "Using TensorFlow backend\n"
     ]
    }
   ]
  },
  {
   "cell_type": "code",
   "source": [
    "from keras.layers import Dropout, Flatten, Dense\n",
    "\n",
    "\n",
    "class FCHeadNet:\n",
    "    @staticmethod\n",
    "    def build(baseModel, classes: int, D: int):\n",
    "        headModel = baseModel.output\n",
    "        headModel = Flatten(name=\"flatten\")(headModel)\n",
    "        headModel = Dense(D, activation=\"relu\")(headModel)\n",
    "        headModel = Dropout(0.5)(headModel)\n",
    "\n",
    "        headModel = Dense(classes, activation=\"softmax\")(headModel)\n",
    "\n",
    "        return headModel\n"
   ],
   "metadata": {
    "id": "S6rDl75wrAbz",
    "executionInfo": {
     "status": "ok",
     "timestamp": 1695403958014,
     "user_tz": -60,
     "elapsed": 8,
     "user": {
      "displayName": "Joseph Sykes",
      "userId": "13195148787507540165"
     }
    }
   },
   "execution_count": 7,
   "outputs": []
  },
  {
   "cell_type": "code",
   "execution_count": 8,
   "metadata": {
    "id": "y72PwmfnoU86",
    "executionInfo": {
     "status": "ok",
     "timestamp": 1695403958633,
     "user_tz": -60,
     "elapsed": 625,
     "user": {
      "displayName": "Joseph Sykes",
      "userId": "13195148787507540165"
     }
    }
   },
   "outputs": [],
   "source": [
    "from sklearn.preprocessing import LabelBinarizer\n",
    "from sklearn.model_selection import train_test_split\n",
    "from sklearn.metrics import classification_report\n",
    "from keras.optimizers import RMSprop, SGD\n",
    "from keras.applications import VGG16\n",
    "from keras.layers import Input\n",
    "from keras.models import Model\n",
    "from imutils import paths\n",
    "import numpy as np\n",
    "import argparse\n",
    "import os"
   ]
  },
  {
   "cell_type": "code",
   "source": [
    "import matplotlib.pyplot as plt\n",
    "from keras.models import Sequential\n",
    "import numpy as np\n",
    "\n",
    "\n",
    "def plot_training_loss_and_accuracy_keras(epoch_num: int, H: Sequential.fit, savefig_path=None):\n",
    "    plt.style.use(\"ggplot\")\n",
    "    plt.figure()\n",
    "    plt.plot(np.arange(0, epoch_num), H.history[\"loss\"], label=\"train_loss\")\n",
    "    plt.plot(np.arange(0, epoch_num), H.history[\"val_loss\"], label=\"val_loss\")\n",
    "    plt.plot(np.arange(0, epoch_num), H.history[\"accuracy\"], label=\"train_acc\")\n",
    "    plt.plot(np.arange(0, epoch_num), H.history[\"val_accuracy\"], label=\"val_acc\")\n",
    "    plt.title(\"Training Loss and Accuracy\")\n",
    "    plt.xlabel(\"Epoch #\")\n",
    "    plt.ylabel(\"Loss / Accuracy\")\n",
    "    plt.legend()\n",
    "    if savefig_path:\n",
    "        plt.savefig(savefig_path)\n",
    "    plt.show()"
   ],
   "metadata": {
    "id": "PhyMpR5gx1sk",
    "executionInfo": {
     "status": "ok",
     "timestamp": 1695403958633,
     "user_tz": -60,
     "elapsed": 4,
     "user": {
      "displayName": "Joseph Sykes",
      "userId": "13195148787507540165"
     }
    }
   },
   "execution_count": 9,
   "outputs": []
  },
  {
   "cell_type": "code",
   "source": [
    "ap = argparse.ArgumentParser()\n",
    "ap.add_argument(\"-d\", \"--dataset\", required=True, help=\"path to input dataset\")\n",
    "ap.add_argument(\"-m\", \"--model\", required=True, help=\"path to output model\")\n",
    "args = {}\n",
    "args[\"dataset\"] = \"/content/flowers17\"\n",
    "args[\"model\"] = \"/content/flowers17.model\"\n",
    "print(args)"
   ],
   "metadata": {
    "colab": {
     "base_uri": "https://localhost:8080/"
    },
    "id": "_EczJAsfpbaH",
    "executionInfo": {
     "status": "ok",
     "timestamp": 1695403959178,
     "user_tz": -60,
     "elapsed": 548,
     "user": {
      "displayName": "Joseph Sykes",
      "userId": "13195148787507540165"
     }
    },
    "outputId": "d51f05e2-7759-4157-96a6-1845552994fb"
   },
   "execution_count": 10,
   "outputs": [
    {
     "output_type": "stream",
     "name": "stdout",
     "text": [
      "{'dataset': '/content/flowers17', 'model': '/content/flowers17.model'}\n"
     ]
    }
   ]
  },
  {
   "cell_type": "code",
   "source": [
    "print(\"[INFO] loading images...\")\n",
    "image_paths = list(paths.list_images(args[\"dataset\"]))\n",
    "class_names = set([pt.split(os.path.sep)[-2] for pt in image_paths])\n",
    "\n",
    "aap = AspectAwarePreprocessor(224, 224)\n",
    "iap = ImageToArrayPreprocessor()\n",
    "\n",
    "sdl = SimpleDatasetLoader(preprocessors=[aap, iap])\n",
    "(data, labels) = sdl.load(image_paths, verbose=500)\n",
    "data = data.astype(\"float\") / 255.0\n",
    "\n",
    "(trainX, testX, trainY, testY) = train_test_split(data, labels, test_size=0.25, random_state=42)\n",
    "trainY = LabelBinarizer().fit_transform(trainY)\n",
    "testY = LabelBinarizer().fit_transform(testY)\n",
    "\n",
    "base_model = VGG16(weights=\"imagenet\", include_top=False, input_tensor=Input(shape=(224, 224, 3)))\n",
    "head_model = FCHeadNet.build(base_model, len(class_names), 256)\n",
    "model = Model(inputs=base_model.input, outputs=head_model)\n",
    "\n",
    "# this freezes the weights in the base model\n",
    "for layer in base_model.layers:\n",
    "    layer.trainable = False\n",
    "\n",
    "# add data augmentation\n",
    "model = DataAugmentor.build(model)"
   ],
   "metadata": {
    "colab": {
     "base_uri": "https://localhost:8080/"
    },
    "id": "BREHOqL_r7mt",
    "executionInfo": {
     "status": "ok",
     "timestamp": 1695403989558,
     "user_tz": -60,
     "elapsed": 30383,
     "user": {
      "displayName": "Joseph Sykes",
      "userId": "13195148787507540165"
     }
    },
    "outputId": "1d96d2d1-c937-4445-81da-76c7730ff3ed"
   },
   "execution_count": 11,
   "outputs": [
    {
     "output_type": "stream",
     "name": "stdout",
     "text": [
      "[INFO] loading images...\n",
      "[INFO] processed 500/1360\n",
      "[INFO] processed 1000/1360\n"
     ]
    }
   ]
  },
  {
   "cell_type": "code",
   "source": [
    "print(\"[INFO] compiling the model...\")\n",
    "# small lr to warm up FC head\n",
    "# always use lr that is multiple orders of magnitude smaller than orig learning rate\n",
    "opt = RMSprop(learning_rate=0.001)\n",
    "model.compile(loss=\"categorical_crossentropy\", optimizer=opt, metrics=\"accuracy\")"
   ],
   "metadata": {
    "colab": {
     "base_uri": "https://localhost:8080/"
    },
    "id": "Ba7IVPpnsX3X",
    "executionInfo": {
     "status": "ok",
     "timestamp": 1695403989559,
     "user_tz": -60,
     "elapsed": 14,
     "user": {
      "displayName": "Joseph Sykes",
      "userId": "13195148787507540165"
     }
    },
    "outputId": "3b8ad9b4-9a6d-4f47-f717-0427000424f8"
   },
   "execution_count": 12,
   "outputs": [
    {
     "output_type": "stream",
     "name": "stdout",
     "text": [
      "[INFO] compiling the model...\n"
     ]
    }
   ]
  },
  {
   "cell_type": "code",
   "source": [
    "print(\"[INFO] training head...\")\n",
    "# warm-up phase ~ 10-30 epochs depending on dataset size\n",
    "H = model.fit(trainX, trainY, validation_data=(testX, testY), batch_size=32, epochs=25, verbose=1)"
   ],
   "metadata": {
    "colab": {
     "base_uri": "https://localhost:8080/"
    },
    "id": "iobuX1Kssdgy",
    "executionInfo": {
     "status": "ok",
     "timestamp": 1695404199043,
     "user_tz": -60,
     "elapsed": 209496,
     "user": {
      "displayName": "Joseph Sykes",
      "userId": "13195148787507540165"
     }
    },
    "outputId": "29ec8df3-6557-45e0-ca96-fdf8fa65e937"
   },
   "execution_count": 13,
   "outputs": [
    {
     "output_type": "stream",
     "name": "stdout",
     "text": [
      "[INFO] training head...\n",
      "Epoch 1/25\n",
      "32/32 [==============================] - 25s 448ms/step - loss: 5.0034 - accuracy: 0.1657 - val_loss: 2.5530 - val_accuracy: 0.2206\n",
      "Epoch 2/25\n",
      "32/32 [==============================] - 7s 213ms/step - loss: 2.3497 - accuracy: 0.2657 - val_loss: 2.0020 - val_accuracy: 0.4206\n",
      "Epoch 3/25\n",
      "32/32 [==============================] - 5s 170ms/step - loss: 2.0216 - accuracy: 0.3520 - val_loss: 1.5017 - val_accuracy: 0.5412\n",
      "Epoch 4/25\n",
      "32/32 [==============================] - 7s 212ms/step - loss: 1.8020 - accuracy: 0.4000 - val_loss: 1.3882 - val_accuracy: 0.6412\n",
      "Epoch 5/25\n",
      "32/32 [==============================] - 5s 171ms/step - loss: 1.7407 - accuracy: 0.4186 - val_loss: 1.3546 - val_accuracy: 0.6471\n",
      "Epoch 6/25\n",
      "32/32 [==============================] - 7s 212ms/step - loss: 1.5019 - accuracy: 0.5098 - val_loss: 1.0850 - val_accuracy: 0.6765\n",
      "Epoch 7/25\n",
      "32/32 [==============================] - 7s 211ms/step - loss: 1.3569 - accuracy: 0.5461 - val_loss: 1.2118 - val_accuracy: 0.6765\n",
      "Epoch 8/25\n",
      "32/32 [==============================] - 6s 177ms/step - loss: 1.4058 - accuracy: 0.5392 - val_loss: 1.0023 - val_accuracy: 0.7118\n",
      "Epoch 9/25\n",
      "32/32 [==============================] - 7s 212ms/step - loss: 1.2506 - accuracy: 0.5814 - val_loss: 0.8250 - val_accuracy: 0.7500\n",
      "Epoch 10/25\n",
      "32/32 [==============================] - 6s 176ms/step - loss: 1.2178 - accuracy: 0.5951 - val_loss: 0.8240 - val_accuracy: 0.7882\n",
      "Epoch 11/25\n",
      "32/32 [==============================] - 6s 175ms/step - loss: 1.1284 - accuracy: 0.6314 - val_loss: 0.7786 - val_accuracy: 0.7471\n",
      "Epoch 12/25\n",
      "32/32 [==============================] - 7s 212ms/step - loss: 1.0961 - accuracy: 0.6275 - val_loss: 0.9642 - val_accuracy: 0.6765\n",
      "Epoch 13/25\n",
      "32/32 [==============================] - 7s 215ms/step - loss: 1.1552 - accuracy: 0.6108 - val_loss: 0.6977 - val_accuracy: 0.7912\n",
      "Epoch 14/25\n",
      "32/32 [==============================] - 6s 176ms/step - loss: 1.0468 - accuracy: 0.6500 - val_loss: 0.7296 - val_accuracy: 0.7853\n",
      "Epoch 15/25\n",
      "32/32 [==============================] - 6s 178ms/step - loss: 1.0148 - accuracy: 0.6588 - val_loss: 0.6073 - val_accuracy: 0.8206\n",
      "Epoch 16/25\n",
      "32/32 [==============================] - 6s 176ms/step - loss: 1.0245 - accuracy: 0.6647 - val_loss: 0.7278 - val_accuracy: 0.7559\n",
      "Epoch 17/25\n",
      "32/32 [==============================] - 7s 217ms/step - loss: 0.9652 - accuracy: 0.6794 - val_loss: 0.7593 - val_accuracy: 0.7735\n",
      "Epoch 18/25\n",
      "32/32 [==============================] - 6s 177ms/step - loss: 0.9446 - accuracy: 0.6696 - val_loss: 0.7014 - val_accuracy: 0.7706\n",
      "Epoch 19/25\n",
      "32/32 [==============================] - 6s 180ms/step - loss: 0.8843 - accuracy: 0.6990 - val_loss: 0.6955 - val_accuracy: 0.7647\n",
      "Epoch 20/25\n",
      "32/32 [==============================] - 7s 215ms/step - loss: 0.8768 - accuracy: 0.6912 - val_loss: 0.7063 - val_accuracy: 0.7647\n",
      "Epoch 21/25\n",
      "32/32 [==============================] - 7s 216ms/step - loss: 0.8604 - accuracy: 0.7039 - val_loss: 0.6784 - val_accuracy: 0.7676\n",
      "Epoch 22/25\n",
      "32/32 [==============================] - 6s 177ms/step - loss: 0.9170 - accuracy: 0.6833 - val_loss: 0.5526 - val_accuracy: 0.8118\n",
      "Epoch 23/25\n",
      "32/32 [==============================] - 7s 215ms/step - loss: 0.8548 - accuracy: 0.7176 - val_loss: 0.6486 - val_accuracy: 0.7971\n",
      "Epoch 24/25\n",
      "32/32 [==============================] - 6s 178ms/step - loss: 0.7918 - accuracy: 0.7343 - val_loss: 0.6055 - val_accuracy: 0.8059\n",
      "Epoch 25/25\n",
      "32/32 [==============================] - 7s 214ms/step - loss: 0.8260 - accuracy: 0.7147 - val_loss: 0.6528 - val_accuracy: 0.7647\n"
     ]
    }
   ]
  },
  {
   "cell_type": "code",
   "source": [
    "print(\"[INFO] evaluating after initialization...\")\n",
    "predictions = model.predict(testX, batch_size=32)\n",
    "print(classification_report(testY.argmax(axis=1), predictions.argmax(axis=1), target_names=class_names))\n",
    "\n",
    "plot_training_loss_and_accuracy_keras(\n",
    "    epoch_num=25,\n",
    "    H=H\n",
    ")"
   ],
   "metadata": {
    "colab": {
     "base_uri": "https://localhost:8080/",
     "height": 928
    },
    "id": "p4hEJk7etcwC",
    "executionInfo": {
     "status": "ok",
     "timestamp": 1695404731343,
     "user_tz": -60,
     "elapsed": 3197,
     "user": {
      "displayName": "Joseph Sykes",
      "userId": "13195148787507540165"
     }
    },
    "outputId": "fde5d785-9544-4300-dd2b-72592fd46454"
   },
   "execution_count": 15,
   "outputs": [
    {
     "output_type": "stream",
     "name": "stdout",
     "text": [
      "[INFO] evaluating after initialization...\n",
      "11/11 [==============================] - 1s 125ms/step\n",
      "              precision    recall  f1-score   support\n",
      "\n",
      "     cowslip       0.82      0.45      0.58        20\n",
      "    bluebell       0.76      0.96      0.85        23\n",
      "    daffodil       0.70      0.70      0.70        20\n",
      "  fritillary       0.75      0.71      0.73        21\n",
      "      crocus       0.50      0.80      0.62        15\n",
      "    snowdrop       0.75      0.78      0.77        23\n",
      " lily_valley       1.00      0.85      0.92        20\n",
      "   buttercup       0.95      0.70      0.81        27\n",
      "       daisy       0.93      0.78      0.85        18\n",
      "   sunflower       0.63      0.95      0.76        20\n",
      "        iris       0.86      0.82      0.84        22\n",
      "   tigerlily       0.87      0.81      0.84        16\n",
      "   dandelion       1.00      0.58      0.73        19\n",
      "       tulip       0.75      0.94      0.83        16\n",
      "       pansy       1.00      0.84      0.91        19\n",
      "  colts_foot       0.65      0.72      0.68        18\n",
      "  windflower       0.70      0.83      0.76        23\n",
      "\n",
      "    accuracy                           0.78       340\n",
      "   macro avg       0.80      0.78      0.78       340\n",
      "weighted avg       0.81      0.78      0.78       340\n",
      "\n"
     ]
    },
    {
     "output_type": "display_data",
     "data": {
      "text/plain": [
       "<Figure size 640x480 with 1 Axes>"
      ],
      "image/png": "[encoded data removed]"
     },
     "metadata": {}
    }
   ]
  },
  {
   "cell_type": "code",
   "source": [
    "# now head FC layers have been trained/initialized, lets\n",
    "# unfreeze the final set of CONV layers and make them trainable\n",
    "for layer in base_model.layers[15:]:\n",
    "    layer.trainable = True\n",
    "\n",
    "# for the changes to the model to take effect we need to recompile\n",
    "# the model, this time using SGD with a VERY small learning rate\n",
    "print(\"[INFO] re-compiling model...\")\n",
    "opt = SGD(learning_rate=0.001)\n",
    "model.compile(loss=\"categorical_crossentropy\", optimizer=opt, metrics=[\"accuracy\"])"
   ],
   "metadata": {
    "colab": {
     "base_uri": "https://localhost:8080/"
    },
    "id": "ZJS6b6latp6A",
    "executionInfo": {
     "status": "ok",
     "timestamp": 1695404767570,
     "user_tz": -60,
     "elapsed": 434,
     "user": {
      "displayName": "Joseph Sykes",
      "userId": "13195148787507540165"
     }
    },
    "outputId": "257e9468-5884-4ebb-edbf-88b11e354d4a"
   },
   "execution_count": 16,
   "outputs": [
    {
     "output_type": "stream",
     "name": "stdout",
     "text": [
      "[INFO] re-compiling model...\n"
     ]
    }
   ]
  },
  {
   "cell_type": "code",
   "source": [
    "print(\"[INFO] fine-tuning model...\")\n",
    "H = model.fit(trainX, trainY, validation_data=(testX, testY), batch_size=32, epochs=100, verbose=1)\n",
    "\n",
    "print(\"[INFO] evaluating after fine-tuning...\")\n",
    "predictions = model.predict(testX, batch_size=32)\n",
    "print(classification_report(testY.argmax(axis=1), predictions.argmax(axis=1), target_names=class_names))\n"
   ],
   "metadata": {
    "colab": {
     "base_uri": "https://localhost:8080/",
     "height": 1000
    },
    "id": "Ruys65HqtwqF",
    "executionInfo": {
     "status": "error",
     "timestamp": 1695405491763,
     "user_tz": -60,
     "elapsed": 721569,
     "user": {
      "displayName": "Joseph Sykes",
      "userId": "13195148787507540165"
     }
    },
    "outputId": "8a2d4fe5-ad96-473e-e557-65882f615af7"
   },
   "execution_count": 17,
   "outputs": [
    {
     "output_type": "stream",
     "name": "stdout",
     "text": [
      "[INFO] fine-tuning model...\n",
      "Epoch 1/100\n",
      "32/32 [==============================] - 12s 264ms/step - loss: 0.7090 - accuracy: 0.7471 - val_loss: 0.5289 - val_accuracy: 0.8441\n",
      "Epoch 2/100\n",
      "32/32 [==============================] - 7s 228ms/step - loss: 0.5800 - accuracy: 0.7922 - val_loss: 0.5314 - val_accuracy: 0.8412\n",
      "Epoch 3/100\n",
      "32/32 [==============================] - 6s 193ms/step - loss: 0.5915 - accuracy: 0.7902 - val_loss: 0.5124 - val_accuracy: 0.8588\n",
      "Epoch 4/100\n",
      "32/32 [==============================] - 7s 229ms/step - loss: 0.5858 - accuracy: 0.7971 - val_loss: 0.4500 - val_accuracy: 0.8647\n",
      "Epoch 5/100\n",
      "32/32 [==============================] - 6s 195ms/step - loss: 0.5292 - accuracy: 0.8196 - val_loss: 0.5524 - val_accuracy: 0.8206\n",
      "Epoch 6/100\n",
      "32/32 [==============================] - 7s 231ms/step - loss: 0.5144 - accuracy: 0.8333 - val_loss: 0.5250 - val_accuracy: 0.8294\n",
      "Epoch 7/100\n",
      "32/32 [==============================] - 6s 196ms/step - loss: 0.5297 - accuracy: 0.8118 - val_loss: 0.4731 - val_accuracy: 0.8618\n",
      "Epoch 8/100\n",
      "32/32 [==============================] - 6s 194ms/step - loss: 0.4772 - accuracy: 0.8363 - val_loss: 0.4321 - val_accuracy: 0.8647\n",
      "Epoch 9/100\n",
      "32/32 [==============================] - 7s 233ms/step - loss: 0.4908 - accuracy: 0.8216 - val_loss: 0.5094 - val_accuracy: 0.8353\n",
      "Epoch 10/100\n",
      "32/32 [==============================] - 6s 194ms/step - loss: 0.5069 - accuracy: 0.8157 - val_loss: 0.4500 - val_accuracy: 0.8559\n",
      "Epoch 11/100\n",
      "32/32 [==============================] - 8s 241ms/step - loss: 0.4707 - accuracy: 0.8324 - val_loss: 0.4715 - val_accuracy: 0.8559\n",
      "Epoch 12/100\n",
      "32/32 [==============================] - 6s 197ms/step - loss: 0.4411 - accuracy: 0.8441 - val_loss: 0.4537 - val_accuracy: 0.8559\n",
      "Epoch 13/100\n",
      "32/32 [==============================] - 7s 235ms/step - loss: 0.4117 - accuracy: 0.8529 - val_loss: 0.4441 - val_accuracy: 0.8853\n",
      "Epoch 14/100\n",
      "32/32 [==============================] - 7s 234ms/step - loss: 0.4801 - accuracy: 0.8333 - val_loss: 0.4169 - val_accuracy: 0.8647\n",
      "Epoch 15/100\n",
      "32/32 [==============================] - 8s 239ms/step - loss: 0.4873 - accuracy: 0.8294 - val_loss: 0.4222 - val_accuracy: 0.8853\n",
      "Epoch 16/100\n",
      "32/32 [==============================] - 7s 235ms/step - loss: 0.4455 - accuracy: 0.8520 - val_loss: 0.4261 - val_accuracy: 0.8441\n",
      "Epoch 17/100\n",
      "32/32 [==============================] - 6s 199ms/step - loss: 0.4197 - accuracy: 0.8510 - val_loss: 0.4456 - val_accuracy: 0.8618\n",
      "Epoch 18/100\n",
      "32/32 [==============================] - 7s 235ms/step - loss: 0.4420 - accuracy: 0.8392 - val_loss: 0.5271 - val_accuracy: 0.8441\n",
      "Epoch 19/100\n",
      "32/32 [==============================] - 8s 239ms/step - loss: 0.4373 - accuracy: 0.8431 - val_loss: 0.4799 - val_accuracy: 0.8559\n",
      "Epoch 20/100\n",
      "32/32 [==============================] - 6s 198ms/step - loss: 0.4292 - accuracy: 0.8471 - val_loss: 0.5006 - val_accuracy: 0.8471\n",
      "Epoch 21/100\n",
      "32/32 [==============================] - 8s 240ms/step - loss: 0.4159 - accuracy: 0.8510 - val_loss: 0.4296 - val_accuracy: 0.8706\n",
      "Epoch 22/100\n",
      "32/32 [==============================] - 6s 198ms/step - loss: 0.3976 - accuracy: 0.8588 - val_loss: 0.3929 - val_accuracy: 0.8765\n",
      "Epoch 23/100\n",
      "32/32 [==============================] - 6s 201ms/step - loss: 0.3814 - accuracy: 0.8627 - val_loss: 0.3761 - val_accuracy: 0.8941\n",
      "Epoch 24/100\n",
      "32/32 [==============================] - 7s 236ms/step - loss: 0.3625 - accuracy: 0.8775 - val_loss: 0.4448 - val_accuracy: 0.8647\n",
      "Epoch 25/100\n",
      "32/32 [==============================] - 7s 236ms/step - loss: 0.3764 - accuracy: 0.8529 - val_loss: 0.4428 - val_accuracy: 0.8765\n",
      "Epoch 26/100\n",
      "32/32 [==============================] - 8s 238ms/step - loss: 0.3702 - accuracy: 0.8549 - val_loss: 0.4413 - val_accuracy: 0.8676\n",
      "Epoch 27/100\n",
      "32/32 [==============================] - 7s 236ms/step - loss: 0.4406 - accuracy: 0.8392 - val_loss: 0.4135 - val_accuracy: 0.8765\n",
      "Epoch 28/100\n",
      "32/32 [==============================] - 8s 241ms/step - loss: 0.4139 - accuracy: 0.8529 - val_loss: 0.3785 - val_accuracy: 0.8882\n",
      "Epoch 29/100\n",
      "32/32 [==============================] - 7s 236ms/step - loss: 0.3370 - accuracy: 0.8657 - val_loss: 0.4579 - val_accuracy: 0.8706\n",
      "Epoch 30/100\n",
      "32/32 [==============================] - 7s 205ms/step - loss: 0.3958 - accuracy: 0.8549 - val_loss: 0.4190 - val_accuracy: 0.8706\n",
      "Epoch 31/100\n",
      "32/32 [==============================] - 6s 202ms/step - loss: 0.3588 - accuracy: 0.8735 - val_loss: 0.4611 - val_accuracy: 0.8647\n",
      "Epoch 32/100\n",
      "32/32 [==============================] - 8s 241ms/step - loss: 0.3508 - accuracy: 0.8755 - val_loss: 0.4120 - val_accuracy: 0.8824\n",
      "Epoch 33/100\n",
      "32/32 [==============================] - 6s 200ms/step - loss: 0.3980 - accuracy: 0.8608 - val_loss: 0.4060 - val_accuracy: 0.8912\n",
      "Epoch 34/100\n",
      "32/32 [==============================] - 8s 242ms/step - loss: 0.3529 - accuracy: 0.8716 - val_loss: 0.4489 - val_accuracy: 0.8647\n",
      "Epoch 35/100\n",
      "32/32 [==============================] - 8s 238ms/step - loss: 0.3428 - accuracy: 0.8833 - val_loss: 0.3880 - val_accuracy: 0.8647\n",
      "Epoch 36/100\n",
      "32/32 [==============================] - 6s 204ms/step - loss: 0.3215 - accuracy: 0.8892 - val_loss: 0.4102 - val_accuracy: 0.8794\n",
      "Epoch 37/100\n",
      "32/32 [==============================] - 8s 239ms/step - loss: 0.3567 - accuracy: 0.8725 - val_loss: 0.3900 - val_accuracy: 0.8971\n",
      "Epoch 38/100\n",
      "32/32 [==============================] - 6s 203ms/step - loss: 0.3415 - accuracy: 0.8706 - val_loss: 0.3688 - val_accuracy: 0.8971\n",
      "Epoch 39/100\n",
      "32/32 [==============================] - 7s 206ms/step - loss: 0.3309 - accuracy: 0.8902 - val_loss: 0.4129 - val_accuracy: 0.8824\n",
      "Epoch 40/100\n",
      "32/32 [==============================] - 8s 240ms/step - loss: 0.3462 - accuracy: 0.8804 - val_loss: 0.3959 - val_accuracy: 0.8824\n",
      "Epoch 41/100\n",
      "32/32 [==============================] - 8s 242ms/step - loss: 0.3209 - accuracy: 0.8824 - val_loss: 0.4010 - val_accuracy: 0.8971\n",
      "Epoch 42/100\n",
      "32/32 [==============================] - 8s 239ms/step - loss: 0.3231 - accuracy: 0.8755 - val_loss: 0.4379 - val_accuracy: 0.8559\n",
      "Epoch 43/100\n",
      "32/32 [==============================] - 7s 207ms/step - loss: 0.3051 - accuracy: 0.9000 - val_loss: 0.4224 - val_accuracy: 0.8765\n",
      "Epoch 44/100\n",
      "32/32 [==============================] - 8s 241ms/step - loss: 0.3321 - accuracy: 0.8990 - val_loss: 0.4438 - val_accuracy: 0.8765\n",
      "Epoch 45/100\n",
      "32/32 [==============================] - 7s 208ms/step - loss: 0.3255 - accuracy: 0.8873 - val_loss: 0.3616 - val_accuracy: 0.9029\n",
      "Epoch 46/100\n",
      "32/32 [==============================] - 6s 204ms/step - loss: 0.2929 - accuracy: 0.8941 - val_loss: 0.3864 - val_accuracy: 0.8882\n",
      "Epoch 47/100\n",
      "32/32 [==============================] - 8s 244ms/step - loss: 0.3169 - accuracy: 0.8814 - val_loss: 0.4150 - val_accuracy: 0.8824\n",
      "Epoch 48/100\n",
      "32/32 [==============================] - 6s 204ms/step - loss: 0.2877 - accuracy: 0.9000 - val_loss: 0.3678 - val_accuracy: 0.8824\n",
      "Epoch 49/100\n",
      "32/32 [==============================] - 8s 244ms/step - loss: 0.2827 - accuracy: 0.9010 - val_loss: 0.3681 - val_accuracy: 0.8882\n",
      "Epoch 50/100\n",
      "32/32 [==============================] - 7s 205ms/step - loss: 0.2783 - accuracy: 0.9049 - val_loss: 0.4208 - val_accuracy: 0.8706\n",
      "Epoch 51/100\n",
      "32/32 [==============================] - 7s 206ms/step - loss: 0.3273 - accuracy: 0.8725 - val_loss: 0.3418 - val_accuracy: 0.9118\n",
      "Epoch 52/100\n",
      "32/32 [==============================] - 8s 242ms/step - loss: 0.3170 - accuracy: 0.8843 - val_loss: 0.4031 - val_accuracy: 0.8853\n",
      "Epoch 53/100\n",
      "32/32 [==============================] - 8s 241ms/step - loss: 0.2807 - accuracy: 0.8931 - val_loss: 0.4321 - val_accuracy: 0.8735\n",
      "Epoch 54/100\n",
      "32/32 [==============================] - 7s 207ms/step - loss: 0.2650 - accuracy: 0.9137 - val_loss: 0.3709 - val_accuracy: 0.8971\n",
      "Epoch 55/100\n",
      "32/32 [==============================] - 6s 204ms/step - loss: 0.3047 - accuracy: 0.8931 - val_loss: 0.3833 - val_accuracy: 0.9059\n",
      "Epoch 56/100\n",
      "32/32 [==============================] - 7s 207ms/step - loss: 0.2981 - accuracy: 0.8922 - val_loss: 0.3587 - val_accuracy: 0.9059\n",
      "Epoch 57/100\n",
      "32/32 [==============================] - 8s 240ms/step - loss: 0.2896 - accuracy: 0.8990 - val_loss: 0.4236 - val_accuracy: 0.8941\n",
      "Epoch 58/100\n",
      "32/32 [==============================] - 8s 244ms/step - loss: 0.2704 - accuracy: 0.8931 - val_loss: 0.4015 - val_accuracy: 0.8824\n",
      "Epoch 59/100\n",
      "32/32 [==============================] - 7s 205ms/step - loss: 0.3016 - accuracy: 0.8873 - val_loss: 0.3971 - val_accuracy: 0.8882\n",
      "Epoch 60/100\n",
      "32/32 [==============================] - 8s 245ms/step - loss: 0.2970 - accuracy: 0.8941 - val_loss: 0.3947 - val_accuracy: 0.8853\n",
      "Epoch 61/100\n",
      "32/32 [==============================] - 7s 205ms/step - loss: 0.2680 - accuracy: 0.9020 - val_loss: 0.4122 - val_accuracy: 0.8971\n",
      "Epoch 62/100\n",
      "32/32 [==============================] - 8s 243ms/step - loss: 0.2751 - accuracy: 0.9000 - val_loss: 0.4118 - val_accuracy: 0.8765\n",
      "Epoch 63/100\n",
      "32/32 [==============================] - 7s 205ms/step - loss: 0.2549 - accuracy: 0.9157 - val_loss: 0.3028 - val_accuracy: 0.9118\n",
      "Epoch 64/100\n",
      "32/32 [==============================] - 7s 209ms/step - loss: 0.2480 - accuracy: 0.9069 - val_loss: 0.3767 - val_accuracy: 0.9000\n",
      "Epoch 65/100\n",
      "32/32 [==============================] - 8s 241ms/step - loss: 0.2936 - accuracy: 0.8873 - val_loss: 0.4012 - val_accuracy: 0.8941\n",
      "Epoch 66/100\n",
      "32/32 [==============================] - 7s 206ms/step - loss: 0.2399 - accuracy: 0.9127 - val_loss: 0.4392 - val_accuracy: 0.8912\n",
      "Epoch 67/100\n",
      "32/32 [==============================] - 7s 206ms/step - loss: 0.2958 - accuracy: 0.8941 - val_loss: 0.3613 - val_accuracy: 0.9059\n",
      "Epoch 68/100\n",
      "32/32 [==============================] - 8s 243ms/step - loss: 0.2568 - accuracy: 0.9059 - val_loss: 0.3647 - val_accuracy: 0.8853\n",
      "Epoch 69/100\n",
      "32/32 [==============================] - 8s 242ms/step - loss: 0.2738 - accuracy: 0.8912 - val_loss: 0.3931 - val_accuracy: 0.8971\n",
      "Epoch 70/100\n",
      "32/32 [==============================] - 7s 206ms/step - loss: 0.2604 - accuracy: 0.9118 - val_loss: 0.3696 - val_accuracy: 0.9029\n",
      "Epoch 71/100\n",
      "32/32 [==============================] - 7s 210ms/step - loss: 0.2393 - accuracy: 0.9176 - val_loss: 0.3856 - val_accuracy: 0.8853\n",
      "Epoch 72/100\n",
      "32/32 [==============================] - 8s 242ms/step - loss: 0.2639 - accuracy: 0.9137 - val_loss: 0.3953 - val_accuracy: 0.8824\n",
      "Epoch 73/100\n",
      "32/32 [==============================] - 7s 210ms/step - loss: 0.2573 - accuracy: 0.9078 - val_loss: 0.4045 - val_accuracy: 0.8824\n",
      "Epoch 74/100\n",
      "32/32 [==============================] - 8s 242ms/step - loss: 0.2707 - accuracy: 0.8961 - val_loss: 0.3990 - val_accuracy: 0.8794\n",
      "Epoch 75/100\n",
      "32/32 [==============================] - 7s 210ms/step - loss: 0.2812 - accuracy: 0.8980 - val_loss: 0.3866 - val_accuracy: 0.9000\n",
      "Epoch 76/100\n",
      "32/32 [==============================] - 8s 242ms/step - loss: 0.2524 - accuracy: 0.9078 - val_loss: 0.3831 - val_accuracy: 0.8794\n",
      "Epoch 77/100\n",
      "32/32 [==============================] - 7s 209ms/step - loss: 0.2990 - accuracy: 0.8922 - val_loss: 0.4106 - val_accuracy: 0.8794\n",
      "Epoch 78/100\n",
      "32/32 [==============================] - 7s 206ms/step - loss: 0.2838 - accuracy: 0.8990 - val_loss: 0.4290 - val_accuracy: 0.8735\n",
      "Epoch 79/100\n",
      "32/32 [==============================] - 7s 209ms/step - loss: 0.2583 - accuracy: 0.9039 - val_loss: 0.3933 - val_accuracy: 0.8824\n",
      "Epoch 80/100\n",
      "32/32 [==============================] - 8s 242ms/step - loss: 0.2439 - accuracy: 0.9108 - val_loss: 0.4095 - val_accuracy: 0.8706\n",
      "Epoch 81/100\n",
      "32/32 [==============================] - 8s 245ms/step - loss: 0.2384 - accuracy: 0.9176 - val_loss: 0.3864 - val_accuracy: 0.9088\n",
      "Epoch 82/100\n",
      "32/32 [==============================] - 8s 242ms/step - loss: 0.2515 - accuracy: 0.9167 - val_loss: 0.3863 - val_accuracy: 0.8765\n",
      "Epoch 83/100\n",
      "32/32 [==============================] - 8s 242ms/step - loss: 0.2112 - accuracy: 0.9235 - val_loss: 0.3781 - val_accuracy: 0.8824\n",
      "Epoch 84/100\n",
      "32/32 [==============================] - 8s 244ms/step - loss: 0.2639 - accuracy: 0.8980 - val_loss: 0.4290 - val_accuracy: 0.8853\n",
      "Epoch 85/100\n",
      "32/32 [==============================] - 8s 242ms/step - loss: 0.2102 - accuracy: 0.9265 - val_loss: 0.3839 - val_accuracy: 0.8941\n",
      "Epoch 86/100\n",
      "32/32 [==============================] - 7s 210ms/step - loss: 0.2245 - accuracy: 0.9108 - val_loss: 0.3877 - val_accuracy: 0.9235\n",
      "Epoch 87/100\n",
      "32/32 [==============================] - 7s 208ms/step - loss: 0.2502 - accuracy: 0.9020 - val_loss: 0.3748 - val_accuracy: 0.8853\n",
      "Epoch 88/100\n",
      "32/32 [==============================] - 7s 210ms/step - loss: 0.2409 - accuracy: 0.9137 - val_loss: 0.3227 - val_accuracy: 0.9294\n",
      "Epoch 89/100\n",
      "32/32 [==============================] - 7s 207ms/step - loss: 0.2160 - accuracy: 0.9255 - val_loss: 0.3343 - val_accuracy: 0.9029\n",
      "Epoch 90/100\n",
      "32/32 [==============================] - 8s 245ms/step - loss: 0.2048 - accuracy: 0.9206 - val_loss: 0.4190 - val_accuracy: 0.8971\n",
      "Epoch 91/100\n",
      "32/32 [==============================] - 8s 242ms/step - loss: 0.2533 - accuracy: 0.9039 - val_loss: 0.3773 - val_accuracy: 0.8824\n",
      "Epoch 92/100\n",
      "32/32 [==============================] - 8s 244ms/step - loss: 0.2603 - accuracy: 0.9098 - val_loss: 0.3228 - val_accuracy: 0.9147\n",
      "Epoch 93/100\n",
      "32/32 [==============================] - 7s 207ms/step - loss: 0.2417 - accuracy: 0.9059 - val_loss: 0.3698 - val_accuracy: 0.8941\n",
      "Epoch 94/100\n",
      "32/32 [==============================] - 7s 209ms/step - loss: 0.2340 - accuracy: 0.9098 - val_loss: 0.4069 - val_accuracy: 0.8765\n",
      "Epoch 95/100\n",
      "32/32 [==============================] - 8s 242ms/step - loss: 0.2430 - accuracy: 0.9000 - val_loss: 0.4247 - val_accuracy: 0.9088\n",
      "Epoch 96/100\n",
      "32/32 [==============================] - 8s 242ms/step - loss: 0.1943 - accuracy: 0.9304 - val_loss: 0.3275 - val_accuracy: 0.9088\n",
      "Epoch 97/100\n",
      "32/32 [==============================] - 8s 245ms/step - loss: 0.2309 - accuracy: 0.9118 - val_loss: 0.3146 - val_accuracy: 0.9029\n",
      "Epoch 98/100\n",
      "32/32 [==============================] - 8s 242ms/step - loss: 0.2353 - accuracy: 0.9176 - val_loss: 0.3860 - val_accuracy: 0.9000\n",
      "Epoch 99/100\n",
      "32/32 [==============================] - 7s 209ms/step - loss: 0.2225 - accuracy: 0.9235 - val_loss: 0.3430 - val_accuracy: 0.9118\n",
      "Epoch 100/100\n",
      "32/32 [==============================] - 8s 241ms/step - loss: 0.2254 - accuracy: 0.9196 - val_loss: 0.3638 - val_accuracy: 0.9059\n",
      "[INFO] evaluating after fine-tuning...\n",
      "11/11 [==============================] - 2s 138ms/step\n",
      "              precision    recall  f1-score   support\n",
      "\n",
      "     cowslip       0.86      0.90      0.88        20\n",
      "    bluebell       1.00      0.96      0.98        23\n",
      "    daffodil       0.81      0.85      0.83        20\n",
      "  fritillary       0.81      0.81      0.81        21\n",
      "      crocus       0.79      1.00      0.88        15\n",
      "    snowdrop       0.86      0.83      0.84        23\n",
      " lily_valley       1.00      0.95      0.97        20\n",
      "   buttercup       1.00      0.85      0.92        27\n",
      "       daisy       0.89      0.89      0.89        18\n",
      "   sunflower       0.95      0.95      0.95        20\n",
      "        iris       0.95      0.95      0.95        22\n",
      "   tigerlily       0.93      0.88      0.90        16\n",
      "   dandelion       0.95      0.95      0.95        19\n",
      "       tulip       1.00      0.94      0.97        16\n",
      "       pansy       0.94      0.84      0.89        19\n",
      "  colts_foot       0.71      0.94      0.81        18\n",
      "  windflower       1.00      0.96      0.98        23\n",
      "\n",
      "    accuracy                           0.91       340\n",
      "   macro avg       0.91      0.91      0.91       340\n",
      "weighted avg       0.91      0.91      0.91       340\n",
      "\n"
     ]
    },
    {
     "output_type": "error",
     "ename": "ValueError",
     "evalue": "ignored",
     "traceback": [
      "\u001B[0;31m---------------------------------------------------------------------------\u001B[0m",
      "\u001B[0;31mValueError\u001B[0m                                Traceback (most recent call last)",
      "\u001B[0;32m<ipython-input-17-f407795a9555>\u001B[0m in \u001B[0;36m<cell line: 8>\u001B[0;34m()\u001B[0m\n\u001B[1;32m      6\u001B[0m \u001B[0mprint\u001B[0m\u001B[0;34m(\u001B[0m\u001B[0mclassification_report\u001B[0m\u001B[0;34m(\u001B[0m\u001B[0mtestY\u001B[0m\u001B[0;34m.\u001B[0m\u001B[0margmax\u001B[0m\u001B[0;34m(\u001B[0m\u001B[0maxis\u001B[0m\u001B[0;34m=\u001B[0m\u001B[0;36m1\u001B[0m\u001B[0;34m)\u001B[0m\u001B[0;34m,\u001B[0m \u001B[0mpredictions\u001B[0m\u001B[0;34m.\u001B[0m\u001B[0margmax\u001B[0m\u001B[0;34m(\u001B[0m\u001B[0maxis\u001B[0m\u001B[0;34m=\u001B[0m\u001B[0;36m1\u001B[0m\u001B[0;34m)\u001B[0m\u001B[0;34m,\u001B[0m \u001B[0mtarget_names\u001B[0m\u001B[0;34m=\u001B[0m\u001B[0mclass_names\u001B[0m\u001B[0;34m)\u001B[0m\u001B[0;34m)\u001B[0m\u001B[0;34m\u001B[0m\u001B[0;34m\u001B[0m\u001B[0m\n\u001B[1;32m      7\u001B[0m \u001B[0;34m\u001B[0m\u001B[0m\n\u001B[0;32m----> 8\u001B[0;31m plot_training_loss_and_accuracy_keras(\n\u001B[0m\u001B[1;32m      9\u001B[0m     \u001B[0mepoch_num\u001B[0m\u001B[0;34m=\u001B[0m\u001B[0;36m50\u001B[0m\u001B[0;34m,\u001B[0m\u001B[0;34m\u001B[0m\u001B[0;34m\u001B[0m\u001B[0m\n\u001B[1;32m     10\u001B[0m     \u001B[0mH\u001B[0m\u001B[0;34m=\u001B[0m\u001B[0mH\u001B[0m\u001B[0;34m\u001B[0m\u001B[0;34m\u001B[0m\u001B[0m\n",
      "\u001B[0;32m<ipython-input-9-56125945a34f>\u001B[0m in \u001B[0;36mplot_training_loss_and_accuracy_keras\u001B[0;34m(epoch_num, H, savefig_path)\u001B[0m\n\u001B[1;32m      7\u001B[0m     \u001B[0mplt\u001B[0m\u001B[0;34m.\u001B[0m\u001B[0mstyle\u001B[0m\u001B[0;34m.\u001B[0m\u001B[0muse\u001B[0m\u001B[0;34m(\u001B[0m\u001B[0;34m\"ggplot\"\u001B[0m\u001B[0;34m)\u001B[0m\u001B[0;34m\u001B[0m\u001B[0;34m\u001B[0m\u001B[0m\n\u001B[1;32m      8\u001B[0m     \u001B[0mplt\u001B[0m\u001B[0;34m.\u001B[0m\u001B[0mfigure\u001B[0m\u001B[0;34m(\u001B[0m\u001B[0;34m)\u001B[0m\u001B[0;34m\u001B[0m\u001B[0;34m\u001B[0m\u001B[0m\n\u001B[0;32m----> 9\u001B[0;31m     \u001B[0mplt\u001B[0m\u001B[0;34m.\u001B[0m\u001B[0mplot\u001B[0m\u001B[0;34m(\u001B[0m\u001B[0mnp\u001B[0m\u001B[0;34m.\u001B[0m\u001B[0marange\u001B[0m\u001B[0;34m(\u001B[0m\u001B[0;36m0\u001B[0m\u001B[0;34m,\u001B[0m \u001B[0mepoch_num\u001B[0m\u001B[0;34m)\u001B[0m\u001B[0;34m,\u001B[0m \u001B[0mH\u001B[0m\u001B[0;34m.\u001B[0m\u001B[0mhistory\u001B[0m\u001B[0;34m[\u001B[0m\u001B[0;34m\"loss\"\u001B[0m\u001B[0;34m]\u001B[0m\u001B[0;34m,\u001B[0m \u001B[0mlabel\u001B[0m\u001B[0;34m=\u001B[0m\u001B[0;34m\"train_loss\"\u001B[0m\u001B[0;34m)\u001B[0m\u001B[0;34m\u001B[0m\u001B[0;34m\u001B[0m\u001B[0m\n\u001B[0m\u001B[1;32m     10\u001B[0m     \u001B[0mplt\u001B[0m\u001B[0;34m.\u001B[0m\u001B[0mplot\u001B[0m\u001B[0;34m(\u001B[0m\u001B[0mnp\u001B[0m\u001B[0;34m.\u001B[0m\u001B[0marange\u001B[0m\u001B[0;34m(\u001B[0m\u001B[0;36m0\u001B[0m\u001B[0;34m,\u001B[0m \u001B[0mepoch_num\u001B[0m\u001B[0;34m)\u001B[0m\u001B[0;34m,\u001B[0m \u001B[0mH\u001B[0m\u001B[0;34m.\u001B[0m\u001B[0mhistory\u001B[0m\u001B[0;34m[\u001B[0m\u001B[0;34m\"val_loss\"\u001B[0m\u001B[0;34m]\u001B[0m\u001B[0;34m,\u001B[0m \u001B[0mlabel\u001B[0m\u001B[0;34m=\u001B[0m\u001B[0;34m\"val_loss\"\u001B[0m\u001B[0;34m)\u001B[0m\u001B[0;34m\u001B[0m\u001B[0;34m\u001B[0m\u001B[0m\n\u001B[1;32m     11\u001B[0m     \u001B[0mplt\u001B[0m\u001B[0;34m.\u001B[0m\u001B[0mplot\u001B[0m\u001B[0;34m(\u001B[0m\u001B[0mnp\u001B[0m\u001B[0;34m.\u001B[0m\u001B[0marange\u001B[0m\u001B[0;34m(\u001B[0m\u001B[0;36m0\u001B[0m\u001B[0;34m,\u001B[0m \u001B[0mepoch_num\u001B[0m\u001B[0;34m)\u001B[0m\u001B[0;34m,\u001B[0m \u001B[0mH\u001B[0m\u001B[0;34m.\u001B[0m\u001B[0mhistory\u001B[0m\u001B[0;34m[\u001B[0m\u001B[0;34m\"accuracy\"\u001B[0m\u001B[0;34m]\u001B[0m\u001B[0;34m,\u001B[0m \u001B[0mlabel\u001B[0m\u001B[0;34m=\u001B[0m\u001B[0;34m\"train_acc\"\u001B[0m\u001B[0;34m)\u001B[0m\u001B[0;34m\u001B[0m\u001B[0;34m\u001B[0m\u001B[0m\n",
      "\u001B[0;32m/usr/local/lib/python3.10/dist-packages/matplotlib/pyplot.py\u001B[0m in \u001B[0;36mplot\u001B[0;34m(scalex, scaley, data, *args, **kwargs)\u001B[0m\n\u001B[1;32m   2810\u001B[0m \u001B[0;34m@\u001B[0m\u001B[0m_copy_docstring_and_deprecators\u001B[0m\u001B[0;34m(\u001B[0m\u001B[0mAxes\u001B[0m\u001B[0;34m.\u001B[0m\u001B[0mplot\u001B[0m\u001B[0;34m)\u001B[0m\u001B[0;34m\u001B[0m\u001B[0;34m\u001B[0m\u001B[0m\n\u001B[1;32m   2811\u001B[0m \u001B[0;32mdef\u001B[0m \u001B[0mplot\u001B[0m\u001B[0;34m(\u001B[0m\u001B[0;34m*\u001B[0m\u001B[0margs\u001B[0m\u001B[0;34m,\u001B[0m \u001B[0mscalex\u001B[0m\u001B[0;34m=\u001B[0m\u001B[0;32mTrue\u001B[0m\u001B[0;34m,\u001B[0m \u001B[0mscaley\u001B[0m\u001B[0;34m=\u001B[0m\u001B[0;32mTrue\u001B[0m\u001B[0;34m,\u001B[0m \u001B[0mdata\u001B[0m\u001B[0;34m=\u001B[0m\u001B[0;32mNone\u001B[0m\u001B[0;34m,\u001B[0m \u001B[0;34m**\u001B[0m\u001B[0mkwargs\u001B[0m\u001B[0;34m)\u001B[0m\u001B[0;34m:\u001B[0m\u001B[0;34m\u001B[0m\u001B[0;34m\u001B[0m\u001B[0m\n\u001B[0;32m-> 2812\u001B[0;31m     return gca().plot(\n\u001B[0m\u001B[1;32m   2813\u001B[0m         \u001B[0;34m*\u001B[0m\u001B[0margs\u001B[0m\u001B[0;34m,\u001B[0m \u001B[0mscalex\u001B[0m\u001B[0;34m=\u001B[0m\u001B[0mscalex\u001B[0m\u001B[0;34m,\u001B[0m \u001B[0mscaley\u001B[0m\u001B[0;34m=\u001B[0m\u001B[0mscaley\u001B[0m\u001B[0;34m,\u001B[0m\u001B[0;34m\u001B[0m\u001B[0;34m\u001B[0m\u001B[0m\n\u001B[1;32m   2814\u001B[0m         **({\"data\": data} if data is not None else {}), **kwargs)\n",
      "\u001B[0;32m/usr/local/lib/python3.10/dist-packages/matplotlib/axes/_axes.py\u001B[0m in \u001B[0;36mplot\u001B[0;34m(self, scalex, scaley, data, *args, **kwargs)\u001B[0m\n\u001B[1;32m   1686\u001B[0m         \"\"\"\n\u001B[1;32m   1687\u001B[0m         \u001B[0mkwargs\u001B[0m \u001B[0;34m=\u001B[0m \u001B[0mcbook\u001B[0m\u001B[0;34m.\u001B[0m\u001B[0mnormalize_kwargs\u001B[0m\u001B[0;34m(\u001B[0m\u001B[0mkwargs\u001B[0m\u001B[0;34m,\u001B[0m \u001B[0mmlines\u001B[0m\u001B[0;34m.\u001B[0m\u001B[0mLine2D\u001B[0m\u001B[0;34m)\u001B[0m\u001B[0;34m\u001B[0m\u001B[0;34m\u001B[0m\u001B[0m\n\u001B[0;32m-> 1688\u001B[0;31m         \u001B[0mlines\u001B[0m \u001B[0;34m=\u001B[0m \u001B[0;34m[\u001B[0m\u001B[0;34m*\u001B[0m\u001B[0mself\u001B[0m\u001B[0;34m.\u001B[0m\u001B[0m_get_lines\u001B[0m\u001B[0;34m(\u001B[0m\u001B[0;34m*\u001B[0m\u001B[0margs\u001B[0m\u001B[0;34m,\u001B[0m \u001B[0mdata\u001B[0m\u001B[0;34m=\u001B[0m\u001B[0mdata\u001B[0m\u001B[0;34m,\u001B[0m \u001B[0;34m**\u001B[0m\u001B[0mkwargs\u001B[0m\u001B[0;34m)\u001B[0m\u001B[0;34m]\u001B[0m\u001B[0;34m\u001B[0m\u001B[0;34m\u001B[0m\u001B[0m\n\u001B[0m\u001B[1;32m   1689\u001B[0m         \u001B[0;32mfor\u001B[0m \u001B[0mline\u001B[0m \u001B[0;32min\u001B[0m \u001B[0mlines\u001B[0m\u001B[0;34m:\u001B[0m\u001B[0;34m\u001B[0m\u001B[0;34m\u001B[0m\u001B[0m\n\u001B[1;32m   1690\u001B[0m             \u001B[0mself\u001B[0m\u001B[0;34m.\u001B[0m\u001B[0madd_line\u001B[0m\u001B[0;34m(\u001B[0m\u001B[0mline\u001B[0m\u001B[0;34m)\u001B[0m\u001B[0;34m\u001B[0m\u001B[0;34m\u001B[0m\u001B[0m\n",
      "\u001B[0;32m/usr/local/lib/python3.10/dist-packages/matplotlib/axes/_base.py\u001B[0m in \u001B[0;36m__call__\u001B[0;34m(self, data, *args, **kwargs)\u001B[0m\n\u001B[1;32m    309\u001B[0m                 \u001B[0mthis\u001B[0m \u001B[0;34m+=\u001B[0m \u001B[0margs\u001B[0m\u001B[0;34m[\u001B[0m\u001B[0;36m0\u001B[0m\u001B[0;34m]\u001B[0m\u001B[0;34m,\u001B[0m\u001B[0;34m\u001B[0m\u001B[0;34m\u001B[0m\u001B[0m\n\u001B[1;32m    310\u001B[0m                 \u001B[0margs\u001B[0m \u001B[0;34m=\u001B[0m \u001B[0margs\u001B[0m\u001B[0;34m[\u001B[0m\u001B[0;36m1\u001B[0m\u001B[0;34m:\u001B[0m\u001B[0;34m]\u001B[0m\u001B[0;34m\u001B[0m\u001B[0;34m\u001B[0m\u001B[0m\n\u001B[0;32m--> 311\u001B[0;31m             yield from self._plot_args(\n\u001B[0m\u001B[1;32m    312\u001B[0m                 this, kwargs, ambiguous_fmt_datakey=ambiguous_fmt_datakey)\n\u001B[1;32m    313\u001B[0m \u001B[0;34m\u001B[0m\u001B[0m\n",
      "\u001B[0;32m/usr/local/lib/python3.10/dist-packages/matplotlib/axes/_base.py\u001B[0m in \u001B[0;36m_plot_args\u001B[0;34m(self, tup, kwargs, return_kwargs, ambiguous_fmt_datakey)\u001B[0m\n\u001B[1;32m    502\u001B[0m \u001B[0;34m\u001B[0m\u001B[0m\n\u001B[1;32m    503\u001B[0m         \u001B[0;32mif\u001B[0m \u001B[0mx\u001B[0m\u001B[0;34m.\u001B[0m\u001B[0mshape\u001B[0m\u001B[0;34m[\u001B[0m\u001B[0;36m0\u001B[0m\u001B[0;34m]\u001B[0m \u001B[0;34m!=\u001B[0m \u001B[0my\u001B[0m\u001B[0;34m.\u001B[0m\u001B[0mshape\u001B[0m\u001B[0;34m[\u001B[0m\u001B[0;36m0\u001B[0m\u001B[0;34m]\u001B[0m\u001B[0;34m:\u001B[0m\u001B[0;34m\u001B[0m\u001B[0;34m\u001B[0m\u001B[0m\n\u001B[0;32m--> 504\u001B[0;31m             raise ValueError(f\"x and y must have same first dimension, but \"\n\u001B[0m\u001B[1;32m    505\u001B[0m                              f\"have shapes {x.shape} and {y.shape}\")\n\u001B[1;32m    506\u001B[0m         \u001B[0;32mif\u001B[0m \u001B[0mx\u001B[0m\u001B[0;34m.\u001B[0m\u001B[0mndim\u001B[0m \u001B[0;34m>\u001B[0m \u001B[0;36m2\u001B[0m \u001B[0;32mor\u001B[0m \u001B[0my\u001B[0m\u001B[0;34m.\u001B[0m\u001B[0mndim\u001B[0m \u001B[0;34m>\u001B[0m \u001B[0;36m2\u001B[0m\u001B[0;34m:\u001B[0m\u001B[0;34m\u001B[0m\u001B[0;34m\u001B[0m\u001B[0m\n",
      "\u001B[0;31mValueError\u001B[0m: x and y must have same first dimension, but have shapes (50,) and (100,)"
     ]
    },
    {
     "output_type": "display_data",
     "data": {
      "text/plain": [
       "<Figure size 640x480 with 1 Axes>"
      ],
      "image/png": "[encoded data removed]"
     },
     "metadata": {}
    }
   ]
  },
  {
   "cell_type": "code",
   "source": [
    "plot_training_loss_and_accuracy_keras(\n",
    "    epoch_num=100,\n",
    "    H=H\n",
    ")"
   ],
   "metadata": {
    "id": "uxzLww8_Inlh",
    "executionInfo": {
     "status": "ok",
     "timestamp": 1695407050708,
     "user_tz": -60,
     "elapsed": 1375,
     "user": {
      "displayName": "Joseph Sykes",
      "userId": "13195148787507540165"
     }
    },
    "outputId": "5661668a-e288-4728-eade-a39954a329da",
    "colab": {
     "base_uri": "https://localhost:8080/",
     "height": 477
    }
   },
   "execution_count": 18,
   "outputs": [
    {
     "output_type": "display_data",
     "data": {
      "text/plain": [
       "<Figure size 640x480 with 1 Axes>"
      ],
      "image/png": "[encoded data removed]"
     },
     "metadata": {}
    }
   ]
  }
 ]
}
