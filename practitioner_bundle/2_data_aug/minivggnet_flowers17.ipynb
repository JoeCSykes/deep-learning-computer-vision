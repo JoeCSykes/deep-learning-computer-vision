{
 "nbformat": 4,
 "nbformat_minor": 0,
 "metadata": {
  "colab": {
   "provenance": [],
   "gpuType": "T4",
   "authorship_tag": "ABX9TyOrXDXFyOrz5a5apyJWVz8K"
  },
  "kernelspec": {
   "name": "python3",
   "display_name": "Python 3"
  },
  "language_info": {
   "name": "python"
  },
  "accelerator": "GPU"
 },
 "cells": [
  {
   "cell_type": "code",
   "execution_count": null,
   "metadata": {
    "id": "HxxPCKy6tlIE"
   },
   "outputs": [],
   "source": [
    "!unzip flowers17.zip"
   ]
  },
  {
   "cell_type": "code",
   "source": [
    "import imutils\n",
    "import cv2\n",
    "\n",
    "\n",
    "class AspectAwarePreprocessor:\n",
    "    def __init__(self, width, height, inter=cv2.INTER_AREA):\n",
    "        self.width = width\n",
    "        self.height = height\n",
    "        self.inter = inter\n",
    "\n",
    "    def preprocess(self, image):\n",
    "        (h, w) = image.shape[:2]\n",
    "        dW = 0\n",
    "        dH = 0\n",
    "\n",
    "        # resize wrt shortest img dimension\n",
    "        if w < h:\n",
    "            image = imutils.resize(image, width=self.width, inter=self.inter)\n",
    "            dH = int((image.shape[0] - self.height) / 2.0)\n",
    "        else:\n",
    "            image = imutils.resize(image, height=self.height, inter=self.inter)\n",
    "            dW = int((image.shape[1] - self.width) / 2.0)\n",
    "\n",
    "        # crop to achieve desired image size\n",
    "        (h, w) = image.shape[:2]\n",
    "        image = image[dH: h - dH, dW: w - dW]\n",
    "\n",
    "        # resize again to ensure no rounding errors after cropping\n",
    "        return cv2.resize(image, (self.width, self.height), interpolation=self.inter)\n"
   ],
   "metadata": {
    "id": "AQ0gCkR8xH1Y",
    "executionInfo": {
     "status": "ok",
     "timestamp": 1693320967323,
     "user_tz": -60,
     "elapsed": 543,
     "user": {
      "displayName": "Joseph Sykes",
      "userId": "13195148787507540165"
     }
    }
   },
   "execution_count": 2,
   "outputs": []
  },
  {
   "cell_type": "code",
   "source": [
    "from keras.utils.image_utils import img_to_array\n",
    "\n",
    "\n",
    "class ImageToArrayPreprocessor:\n",
    "    def __init__(self, data_format=None):\n",
    "        self.data_format = data_format\n",
    "\n",
    "    def preprocess(self, image):\n",
    "        return img_to_array(image, data_format=self.data_format)\n"
   ],
   "metadata": {
    "id": "rmnPGabpxl4D",
    "executionInfo": {
     "status": "ok",
     "timestamp": 1693320973629,
     "user_tz": -60,
     "elapsed": 4007,
     "user": {
      "displayName": "Joseph Sykes",
      "userId": "13195148787507540165"
     }
    }
   },
   "execution_count": 3,
   "outputs": []
  },
  {
   "cell_type": "code",
   "source": [
    "import numpy as np\n",
    "import cv2\n",
    "import os\n",
    "\n",
    "\n",
    "class SimpleDatasetLoader:\n",
    "    def __init__(self, preprocessors=None):\n",
    "        # store img preprocessor\n",
    "        self.preprocessors = preprocessors\n",
    "\n",
    "        if self.preprocessors is None:\n",
    "            self.preprocessors = []\n",
    "\n",
    "    def load(self, image_paths: list[str], verbose=-1) -> tuple[np.ndarray, np.ndarray]:\n",
    "        data = []\n",
    "        labels = []\n",
    "\n",
    "        for (i, image_path) in enumerate(image_paths):\n",
    "            # load img and extract class label assuming\n",
    "            # path has following format:\n",
    "            # /path/to/dataset/{class}/{image}.jpg\n",
    "            image = cv2.imread(image_path)\n",
    "            label = image_path.split(os.path.sep)[-2]\n",
    "\n",
    "            if self.preprocessors is not None:\n",
    "                for p in self.preprocessors:\n",
    "                    image = p.preprocess(image)\n",
    "\n",
    "                data.append(image)\n",
    "                labels.append(label)\n",
    "\n",
    "            if verbose > 0 and i > 0 and (i+1) % verbose == 0:\n",
    "                print(f\"[INFO] processed {i+1}/{len(image_paths)}\")\n",
    "\n",
    "        return np.array(data), np.array(labels)\n"
   ],
   "metadata": {
    "id": "Qivtfo2jxo91",
    "executionInfo": {
     "status": "ok",
     "timestamp": 1693320976341,
     "user_tz": -60,
     "elapsed": 227,
     "user": {
      "displayName": "Joseph Sykes",
      "userId": "13195148787507540165"
     }
    }
   },
   "execution_count": 4,
   "outputs": []
  },
  {
   "cell_type": "code",
   "source": [
    "from keras.models import Sequential\n",
    "from keras.layers import BatchNormalization\n",
    "from keras.layers.convolutional import Conv2D, MaxPooling2D\n",
    "from keras.layers.core import Activation, Flatten, Dropout, Dense\n",
    "from keras import backend as K\n",
    "\n",
    "\n",
    "class MiniVGGNet:\n",
    "    @staticmethod\n",
    "    def build(width, height, depth, classes):\n",
    "        model = Sequential()\n",
    "        if K.image_data_format() == \"channels_first\":\n",
    "            input_shape = (depth, height, width)\n",
    "            chan_dim = 1\n",
    "        else:\n",
    "            input_shape = (height, width, depth)\n",
    "            chan_dim = -1\n",
    "\n",
    "        # first CONV => RELU => CONV => RELU => POOL layer set\n",
    "        model.add(Conv2D(32, (3, 3), padding=\"same\", input_shape=input_shape))\n",
    "        model.add(Activation(\"relu\"))\n",
    "        model.add(BatchNormalization(axis=chan_dim))\n",
    "        model.add(Conv2D(32, (3, 3), padding=\"same\"))\n",
    "        model.add(Activation(\"relu\"))\n",
    "        model.add(BatchNormalization(axis=chan_dim))\n",
    "        model.add(MaxPooling2D(pool_size=(2, 2)))\n",
    "        model.add(Dropout(0.25))\n",
    "\n",
    "        # second CONV => RELU => CONV => RELU => POOL layer set\n",
    "        model.add(Conv2D(64, (3, 3), padding=\"same\", input_shape=input_shape))\n",
    "        model.add(Activation(\"relu\"))\n",
    "        model.add(BatchNormalization(axis=chan_dim))\n",
    "        model.add(Conv2D(64, (3, 3), padding=\"same\"))\n",
    "        model.add(Activation(\"relu\"))\n",
    "        model.add(BatchNormalization(axis=chan_dim))\n",
    "        model.add(MaxPooling2D(pool_size=(2, 2)))\n",
    "        model.add(Dropout(0.25))\n",
    "\n",
    "        # First and only set of FC => RELU layers\n",
    "        model.add(Flatten())\n",
    "        model.add(Dense(512))\n",
    "        model.add(Activation(\"relu\"))\n",
    "        model.add(BatchNormalization())\n",
    "        model.add(Dropout(0.5))\n",
    "\n",
    "        # softmax classifier\n",
    "        model.add(Dense(classes))\n",
    "        model.add(Activation(\"softmax\"))\n",
    "\n",
    "        return model\n"
   ],
   "metadata": {
    "id": "nDoacJ-AxT5L",
    "executionInfo": {
     "status": "ok",
     "timestamp": 1693320981834,
     "user_tz": -60,
     "elapsed": 256,
     "user": {
      "displayName": "Joseph Sykes",
      "userId": "13195148787507540165"
     }
    }
   },
   "execution_count": 5,
   "outputs": []
  },
  {
   "cell_type": "code",
   "source": [
    "import matplotlib.pyplot as plt\n",
    "from keras.models import Sequential\n",
    "import numpy as np\n",
    "\n",
    "\n",
    "def plot_training_loss_and_accuracy_keras(epoch_num: int, H: Sequential.fit, savefig_path=None):\n",
    "    plt.style.use(\"ggplot\")\n",
    "    plt.figure()\n",
    "    plt.plot(np.arange(0, epoch_num), H.history[\"loss\"], label=\"train_loss\")\n",
    "    plt.plot(np.arange(0, epoch_num), H.history[\"val_loss\"], label=\"val_loss\")\n",
    "    plt.plot(np.arange(0, epoch_num), H.history[\"accuracy\"], label=\"train_acc\")\n",
    "    plt.plot(np.arange(0, epoch_num), H.history[\"val_accuracy\"], label=\"val_acc\")\n",
    "    plt.title(\"Training Loss and Accuracy\")\n",
    "    plt.xlabel(\"Epoch #\")\n",
    "    plt.ylabel(\"Loss / Accuracy\")\n",
    "    plt.legend()\n",
    "    if savefig_path:\n",
    "        plt.savefig(savefig_path)\n",
    "    plt.show()\n"
   ],
   "metadata": {
    "id": "1k6n5yygys87",
    "executionInfo": {
     "status": "ok",
     "timestamp": 1693320985705,
     "user_tz": -60,
     "elapsed": 248,
     "user": {
      "displayName": "Joseph Sykes",
      "userId": "13195148787507540165"
     }
    }
   },
   "execution_count": 6,
   "outputs": []
  },
  {
   "cell_type": "code",
   "source": [
    "from imutils import paths\n",
    "from sklearn.preprocessing import LabelBinarizer\n",
    "from sklearn.model_selection import train_test_split\n",
    "\n",
    "print(\"[INFO] loading images...\")\n",
    "image_paths = list(paths.list_images(\"/content/flowers17\"))\n",
    "class_names = list(set(pt.split(os.path.sep)[-2] for pt in image_paths))\n",
    "\n",
    "aap = AspectAwarePreprocessor(64, 64)\n",
    "iap = ImageToArrayPreprocessor()\n",
    "\n",
    "sdl = SimpleDatasetLoader(preprocessors=[aap, iap])\n",
    "(data, labels) = sdl.load(image_paths, verbose=500)\n",
    "data = data.astype(\"float\") / 255.0\n",
    "\n",
    "(trainX, testX, trainY, testY) = train_test_split(data, labels, test_size=0.25, random_state=42)\n",
    "trainY = LabelBinarizer().fit_transform(trainY)\n",
    "testY = LabelBinarizer().fit_transform(testY)"
   ],
   "metadata": {
    "colab": {
     "base_uri": "https://localhost:8080/"
    },
    "id": "yITpQAkIy2I5",
    "executionInfo": {
     "status": "ok",
     "timestamp": 1693321376193,
     "user_tz": -60,
     "elapsed": 9349,
     "user": {
      "displayName": "Joseph Sykes",
      "userId": "13195148787507540165"
     }
    },
    "outputId": "ecfc8225-1104-4cfa-8da0-6734b810537c"
   },
   "execution_count": 7,
   "outputs": [
    {
     "output_type": "stream",
     "name": "stdout",
     "text": [
      "[INFO] loading images...\n",
      "[INFO] processed 500/1360\n",
      "[INFO] processed 1000/1360\n"
     ]
    }
   ]
  },
  {
   "cell_type": "code",
   "source": [
    "from keras.optimizers import SGD\n",
    "\n",
    "print(\"[INFO] compling model...\")\n",
    "opt = SGD(learning_rate=0.05)\n",
    "model = MiniVGGNet.build(width=64, height=64, depth=3, classes=len(class_names))\n",
    "model.compile(loss=\"categorical_crossentropy\", optimizer=opt, metrics=[\"accuracy\"])"
   ],
   "metadata": {
    "colab": {
     "base_uri": "https://localhost:8080/"
    },
    "id": "3GPlN82f0BgQ",
    "executionInfo": {
     "status": "ok",
     "timestamp": 1693321396024,
     "user_tz": -60,
     "elapsed": 3780,
     "user": {
      "displayName": "Joseph Sykes",
      "userId": "13195148787507540165"
     }
    },
    "outputId": "0bfa9b8b-ab31-4f1b-9f59-5f367cc42032"
   },
   "execution_count": 8,
   "outputs": [
    {
     "output_type": "stream",
     "name": "stdout",
     "text": [
      "[INFO] compling model...\n"
     ]
    }
   ]
  },
  {
   "cell_type": "code",
   "source": [
    "print(\"[INFO] training network...\")\n",
    "H = model.fit(trainX, trainY, validation_data=(testX, testY), batch_size=32, epochs=100, verbose=1)"
   ],
   "metadata": {
    "colab": {
     "base_uri": "https://localhost:8080/"
    },
    "id": "6JTqFIV80iqk",
    "executionInfo": {
     "status": "ok",
     "timestamp": 1693321495403,
     "user_tz": -60,
     "elapsed": 81204,
     "user": {
      "displayName": "Joseph Sykes",
      "userId": "13195148787507540165"
     }
    },
    "outputId": "46811064-6a61-41d5-eb3f-894f1257b410"
   },
   "execution_count": 9,
   "outputs": [
    {
     "output_type": "stream",
     "name": "stdout",
     "text": [
      "[INFO] training network...\n",
      "Epoch 1/100\n",
      "32/32 [==============================] - 12s 50ms/step - loss: 3.1201 - accuracy: 0.2657 - val_loss: 4.2070 - val_accuracy: 0.1147\n",
      "Epoch 2/100\n",
      "32/32 [==============================] - 1s 21ms/step - loss: 1.8258 - accuracy: 0.4647 - val_loss: 2.9943 - val_accuracy: 0.1353\n",
      "Epoch 3/100\n",
      "32/32 [==============================] - 1s 21ms/step - loss: 1.3301 - accuracy: 0.5873 - val_loss: 2.8563 - val_accuracy: 0.2059\n",
      "Epoch 4/100\n",
      "32/32 [==============================] - 1s 21ms/step - loss: 1.0476 - accuracy: 0.6676 - val_loss: 2.5712 - val_accuracy: 0.2206\n",
      "Epoch 5/100\n",
      "32/32 [==============================] - 1s 20ms/step - loss: 0.8272 - accuracy: 0.7451 - val_loss: 2.5157 - val_accuracy: 0.2206\n",
      "Epoch 6/100\n",
      "32/32 [==============================] - 1s 20ms/step - loss: 0.6227 - accuracy: 0.8010 - val_loss: 2.5510 - val_accuracy: 0.2529\n",
      "Epoch 7/100\n",
      "32/32 [==============================] - 1s 21ms/step - loss: 0.4871 - accuracy: 0.8461 - val_loss: 2.1164 - val_accuracy: 0.4029\n",
      "Epoch 8/100\n",
      "32/32 [==============================] - 1s 24ms/step - loss: 0.3644 - accuracy: 0.8735 - val_loss: 2.1261 - val_accuracy: 0.4176\n",
      "Epoch 9/100\n",
      "32/32 [==============================] - 1s 25ms/step - loss: 0.2498 - accuracy: 0.9225 - val_loss: 2.0330 - val_accuracy: 0.4529\n",
      "Epoch 10/100\n",
      "32/32 [==============================] - 1s 24ms/step - loss: 0.2439 - accuracy: 0.9206 - val_loss: 1.8399 - val_accuracy: 0.5353\n",
      "Epoch 11/100\n",
      "32/32 [==============================] - 1s 21ms/step - loss: 0.1623 - accuracy: 0.9500 - val_loss: 1.7647 - val_accuracy: 0.5294\n",
      "Epoch 12/100\n",
      "32/32 [==============================] - 1s 21ms/step - loss: 0.1445 - accuracy: 0.9539 - val_loss: 1.8159 - val_accuracy: 0.5559\n",
      "Epoch 13/100\n",
      "32/32 [==============================] - 1s 21ms/step - loss: 0.0921 - accuracy: 0.9765 - val_loss: 1.6494 - val_accuracy: 0.5971\n",
      "Epoch 14/100\n",
      "32/32 [==============================] - 1s 24ms/step - loss: 0.1012 - accuracy: 0.9686 - val_loss: 1.6912 - val_accuracy: 0.6206\n",
      "Epoch 15/100\n",
      "32/32 [==============================] - 1s 29ms/step - loss: 0.0816 - accuracy: 0.9804 - val_loss: 1.7117 - val_accuracy: 0.6206\n",
      "Epoch 16/100\n",
      "32/32 [==============================] - 1s 24ms/step - loss: 0.0640 - accuracy: 0.9853 - val_loss: 1.6779 - val_accuracy: 0.6000\n",
      "Epoch 17/100\n",
      "32/32 [==============================] - 1s 25ms/step - loss: 0.0509 - accuracy: 0.9892 - val_loss: 1.7691 - val_accuracy: 0.6029\n",
      "Epoch 18/100\n",
      "32/32 [==============================] - 1s 23ms/step - loss: 0.0479 - accuracy: 0.9892 - val_loss: 1.8235 - val_accuracy: 0.6029\n",
      "Epoch 19/100\n",
      "32/32 [==============================] - 1s 21ms/step - loss: 0.0326 - accuracy: 0.9951 - val_loss: 1.8497 - val_accuracy: 0.6000\n",
      "Epoch 20/100\n",
      "32/32 [==============================] - 1s 21ms/step - loss: 0.0428 - accuracy: 0.9902 - val_loss: 1.9118 - val_accuracy: 0.5882\n",
      "Epoch 21/100\n",
      "32/32 [==============================] - 1s 21ms/step - loss: 0.0420 - accuracy: 0.9902 - val_loss: 1.8437 - val_accuracy: 0.6206\n",
      "Epoch 22/100\n",
      "32/32 [==============================] - 1s 21ms/step - loss: 0.0394 - accuracy: 0.9922 - val_loss: 1.7324 - val_accuracy: 0.6235\n",
      "Epoch 23/100\n",
      "32/32 [==============================] - 1s 21ms/step - loss: 0.0298 - accuracy: 0.9931 - val_loss: 1.8008 - val_accuracy: 0.6147\n",
      "Epoch 24/100\n",
      "32/32 [==============================] - 1s 20ms/step - loss: 0.0403 - accuracy: 0.9892 - val_loss: 1.8584 - val_accuracy: 0.5941\n",
      "Epoch 25/100\n",
      "32/32 [==============================] - 1s 25ms/step - loss: 0.0382 - accuracy: 0.9922 - val_loss: 1.8143 - val_accuracy: 0.6118\n",
      "Epoch 26/100\n",
      "32/32 [==============================] - 1s 22ms/step - loss: 0.0196 - accuracy: 0.9990 - val_loss: 1.7521 - val_accuracy: 0.6206\n",
      "Epoch 27/100\n",
      "32/32 [==============================] - 1s 25ms/step - loss: 0.0307 - accuracy: 0.9922 - val_loss: 1.8003 - val_accuracy: 0.6324\n",
      "Epoch 28/100\n",
      "32/32 [==============================] - 1s 21ms/step - loss: 0.0280 - accuracy: 0.9931 - val_loss: 1.8198 - val_accuracy: 0.6206\n",
      "Epoch 29/100\n",
      "32/32 [==============================] - 1s 23ms/step - loss: 0.0225 - accuracy: 0.9951 - val_loss: 1.8026 - val_accuracy: 0.6235\n",
      "Epoch 30/100\n",
      "32/32 [==============================] - 1s 21ms/step - loss: 0.0443 - accuracy: 0.9882 - val_loss: 2.3704 - val_accuracy: 0.5294\n",
      "Epoch 31/100\n",
      "32/32 [==============================] - 1s 21ms/step - loss: 0.0328 - accuracy: 0.9922 - val_loss: 1.9041 - val_accuracy: 0.6059\n",
      "Epoch 32/100\n",
      "32/32 [==============================] - 1s 21ms/step - loss: 0.0201 - accuracy: 0.9990 - val_loss: 1.8495 - val_accuracy: 0.6118\n",
      "Epoch 33/100\n",
      "32/32 [==============================] - 1s 21ms/step - loss: 0.0106 - accuracy: 1.0000 - val_loss: 1.8272 - val_accuracy: 0.6294\n",
      "Epoch 34/100\n",
      "32/32 [==============================] - 1s 21ms/step - loss: 0.0256 - accuracy: 0.9951 - val_loss: 1.8883 - val_accuracy: 0.6147\n",
      "Epoch 35/100\n",
      "32/32 [==============================] - 1s 21ms/step - loss: 0.0272 - accuracy: 0.9892 - val_loss: 1.9147 - val_accuracy: 0.6059\n",
      "Epoch 36/100\n",
      "32/32 [==============================] - 1s 21ms/step - loss: 0.0153 - accuracy: 0.9990 - val_loss: 1.8460 - val_accuracy: 0.6265\n",
      "Epoch 37/100\n",
      "32/32 [==============================] - 1s 21ms/step - loss: 0.0135 - accuracy: 0.9990 - val_loss: 1.8444 - val_accuracy: 0.6176\n",
      "Epoch 38/100\n",
      "32/32 [==============================] - 1s 21ms/step - loss: 0.0187 - accuracy: 0.9951 - val_loss: 1.8717 - val_accuracy: 0.6147\n",
      "Epoch 39/100\n",
      "32/32 [==============================] - 1s 20ms/step - loss: 0.0134 - accuracy: 0.9990 - val_loss: 1.8389 - val_accuracy: 0.6235\n",
      "Epoch 40/100\n",
      "32/32 [==============================] - 1s 21ms/step - loss: 0.0101 - accuracy: 0.9990 - val_loss: 1.8489 - val_accuracy: 0.6265\n",
      "Epoch 41/100\n",
      "32/32 [==============================] - 1s 20ms/step - loss: 0.0100 - accuracy: 0.9990 - val_loss: 1.8736 - val_accuracy: 0.6412\n",
      "Epoch 42/100\n",
      "32/32 [==============================] - 1s 21ms/step - loss: 0.0069 - accuracy: 1.0000 - val_loss: 1.8724 - val_accuracy: 0.6265\n",
      "Epoch 43/100\n",
      "32/32 [==============================] - 1s 25ms/step - loss: 0.0085 - accuracy: 0.9990 - val_loss: 1.8759 - val_accuracy: 0.6235\n",
      "Epoch 44/100\n",
      "32/32 [==============================] - 1s 23ms/step - loss: 0.0078 - accuracy: 0.9990 - val_loss: 1.8856 - val_accuracy: 0.6118\n",
      "Epoch 45/100\n",
      "32/32 [==============================] - 1s 23ms/step - loss: 0.0076 - accuracy: 0.9990 - val_loss: 1.8822 - val_accuracy: 0.6235\n",
      "Epoch 46/100\n",
      "32/32 [==============================] - 1s 24ms/step - loss: 0.0083 - accuracy: 0.9990 - val_loss: 1.9221 - val_accuracy: 0.6206\n",
      "Epoch 47/100\n",
      "32/32 [==============================] - 1s 20ms/step - loss: 0.0084 - accuracy: 0.9990 - val_loss: 1.9459 - val_accuracy: 0.6235\n",
      "Epoch 48/100\n",
      "32/32 [==============================] - 1s 20ms/step - loss: 0.0074 - accuracy: 0.9980 - val_loss: 1.9555 - val_accuracy: 0.6235\n",
      "Epoch 49/100\n",
      "32/32 [==============================] - 1s 20ms/step - loss: 0.0067 - accuracy: 0.9990 - val_loss: 1.9126 - val_accuracy: 0.6324\n",
      "Epoch 50/100\n",
      "32/32 [==============================] - 1s 20ms/step - loss: 0.0061 - accuracy: 0.9990 - val_loss: 1.9843 - val_accuracy: 0.6147\n",
      "Epoch 51/100\n",
      "32/32 [==============================] - 1s 21ms/step - loss: 0.0060 - accuracy: 1.0000 - val_loss: 1.9032 - val_accuracy: 0.6265\n",
      "Epoch 52/100\n",
      "32/32 [==============================] - 1s 21ms/step - loss: 0.0095 - accuracy: 0.9990 - val_loss: 1.9599 - val_accuracy: 0.6294\n",
      "Epoch 53/100\n",
      "32/32 [==============================] - 1s 20ms/step - loss: 0.0086 - accuracy: 0.9990 - val_loss: 1.9460 - val_accuracy: 0.6265\n",
      "Epoch 54/100\n",
      "32/32 [==============================] - 1s 21ms/step - loss: 0.0077 - accuracy: 0.9980 - val_loss: 1.9489 - val_accuracy: 0.6235\n",
      "Epoch 55/100\n",
      "32/32 [==============================] - 1s 20ms/step - loss: 0.0100 - accuracy: 0.9971 - val_loss: 2.0001 - val_accuracy: 0.6206\n",
      "Epoch 56/100\n",
      "32/32 [==============================] - 1s 20ms/step - loss: 0.0071 - accuracy: 1.0000 - val_loss: 1.9126 - val_accuracy: 0.6294\n",
      "Epoch 57/100\n",
      "32/32 [==============================] - 1s 20ms/step - loss: 0.0041 - accuracy: 1.0000 - val_loss: 1.9049 - val_accuracy: 0.6235\n",
      "Epoch 58/100\n",
      "32/32 [==============================] - 1s 20ms/step - loss: 0.0063 - accuracy: 0.9980 - val_loss: 1.9398 - val_accuracy: 0.6353\n",
      "Epoch 59/100\n",
      "32/32 [==============================] - 1s 20ms/step - loss: 0.0062 - accuracy: 1.0000 - val_loss: 1.9128 - val_accuracy: 0.6147\n",
      "Epoch 60/100\n",
      "32/32 [==============================] - 1s 20ms/step - loss: 0.0049 - accuracy: 1.0000 - val_loss: 1.9175 - val_accuracy: 0.6176\n",
      "Epoch 61/100\n",
      "32/32 [==============================] - 1s 22ms/step - loss: 0.0041 - accuracy: 1.0000 - val_loss: 1.9197 - val_accuracy: 0.6206\n",
      "Epoch 62/100\n",
      "32/32 [==============================] - 1s 25ms/step - loss: 0.0080 - accuracy: 0.9990 - val_loss: 1.9567 - val_accuracy: 0.6235\n",
      "Epoch 63/100\n",
      "32/32 [==============================] - 1s 22ms/step - loss: 0.0038 - accuracy: 1.0000 - val_loss: 1.9746 - val_accuracy: 0.6294\n",
      "Epoch 64/100\n",
      "32/32 [==============================] - 1s 22ms/step - loss: 0.0052 - accuracy: 0.9990 - val_loss: 1.9890 - val_accuracy: 0.6353\n",
      "Epoch 65/100\n",
      "32/32 [==============================] - 1s 20ms/step - loss: 0.0062 - accuracy: 0.9990 - val_loss: 1.9643 - val_accuracy: 0.6353\n",
      "Epoch 66/100\n",
      "32/32 [==============================] - 1s 20ms/step - loss: 0.0032 - accuracy: 1.0000 - val_loss: 1.9339 - val_accuracy: 0.6412\n",
      "Epoch 67/100\n",
      "32/32 [==============================] - 1s 21ms/step - loss: 0.0040 - accuracy: 1.0000 - val_loss: 1.9304 - val_accuracy: 0.6294\n",
      "Epoch 68/100\n",
      "32/32 [==============================] - 1s 21ms/step - loss: 0.0046 - accuracy: 0.9990 - val_loss: 1.9455 - val_accuracy: 0.6353\n",
      "Epoch 69/100\n",
      "32/32 [==============================] - 1s 20ms/step - loss: 0.0061 - accuracy: 0.9990 - val_loss: 1.9523 - val_accuracy: 0.6235\n",
      "Epoch 70/100\n",
      "32/32 [==============================] - 1s 20ms/step - loss: 0.0045 - accuracy: 0.9990 - val_loss: 1.9334 - val_accuracy: 0.6353\n",
      "Epoch 71/100\n",
      "32/32 [==============================] - 1s 21ms/step - loss: 0.0057 - accuracy: 1.0000 - val_loss: 1.9354 - val_accuracy: 0.6500\n",
      "Epoch 72/100\n",
      "32/32 [==============================] - 1s 20ms/step - loss: 0.0055 - accuracy: 0.9990 - val_loss: 1.9249 - val_accuracy: 0.6412\n",
      "Epoch 73/100\n",
      "32/32 [==============================] - 1s 21ms/step - loss: 0.0051 - accuracy: 0.9980 - val_loss: 1.8924 - val_accuracy: 0.6029\n",
      "Epoch 74/100\n",
      "32/32 [==============================] - 1s 21ms/step - loss: 0.0127 - accuracy: 0.9951 - val_loss: 1.9202 - val_accuracy: 0.6412\n",
      "Epoch 75/100\n",
      "32/32 [==============================] - 1s 20ms/step - loss: 0.0037 - accuracy: 1.0000 - val_loss: 1.9187 - val_accuracy: 0.6382\n",
      "Epoch 76/100\n",
      "32/32 [==============================] - 1s 21ms/step - loss: 0.0066 - accuracy: 0.9990 - val_loss: 1.9848 - val_accuracy: 0.6441\n",
      "Epoch 77/100\n",
      "32/32 [==============================] - 1s 20ms/step - loss: 0.0033 - accuracy: 1.0000 - val_loss: 1.9428 - val_accuracy: 0.6294\n",
      "Epoch 78/100\n",
      "32/32 [==============================] - 1s 20ms/step - loss: 0.0031 - accuracy: 1.0000 - val_loss: 1.9448 - val_accuracy: 0.6265\n",
      "Epoch 79/100\n",
      "32/32 [==============================] - 1s 21ms/step - loss: 0.0066 - accuracy: 0.9980 - val_loss: 1.9292 - val_accuracy: 0.6265\n",
      "Epoch 80/100\n",
      "32/32 [==============================] - 1s 25ms/step - loss: 0.0064 - accuracy: 1.0000 - val_loss: 1.9657 - val_accuracy: 0.6294\n",
      "Epoch 81/100\n",
      "32/32 [==============================] - 1s 37ms/step - loss: 0.0046 - accuracy: 0.9990 - val_loss: 1.9300 - val_accuracy: 0.6324\n",
      "Epoch 82/100\n",
      "32/32 [==============================] - 1s 23ms/step - loss: 0.0047 - accuracy: 1.0000 - val_loss: 1.9649 - val_accuracy: 0.6324\n",
      "Epoch 83/100\n",
      "32/32 [==============================] - 1s 21ms/step - loss: 0.0034 - accuracy: 0.9990 - val_loss: 1.9954 - val_accuracy: 0.6235\n",
      "Epoch 84/100\n",
      "32/32 [==============================] - 1s 21ms/step - loss: 0.0046 - accuracy: 0.9990 - val_loss: 1.9660 - val_accuracy: 0.6353\n",
      "Epoch 85/100\n",
      "32/32 [==============================] - 1s 20ms/step - loss: 0.0038 - accuracy: 1.0000 - val_loss: 1.9775 - val_accuracy: 0.6353\n",
      "Epoch 86/100\n",
      "32/32 [==============================] - 1s 21ms/step - loss: 0.0083 - accuracy: 0.9980 - val_loss: 1.9669 - val_accuracy: 0.6235\n",
      "Epoch 87/100\n",
      "32/32 [==============================] - 1s 21ms/step - loss: 0.0043 - accuracy: 1.0000 - val_loss: 1.9655 - val_accuracy: 0.6235\n",
      "Epoch 88/100\n",
      "32/32 [==============================] - 1s 21ms/step - loss: 0.0038 - accuracy: 1.0000 - val_loss: 1.9747 - val_accuracy: 0.6353\n",
      "Epoch 89/100\n",
      "32/32 [==============================] - 1s 21ms/step - loss: 0.0069 - accuracy: 0.9971 - val_loss: 2.0638 - val_accuracy: 0.6324\n",
      "Epoch 90/100\n",
      "32/32 [==============================] - 1s 21ms/step - loss: 0.0042 - accuracy: 0.9990 - val_loss: 2.0825 - val_accuracy: 0.6294\n",
      "Epoch 91/100\n",
      "32/32 [==============================] - 1s 21ms/step - loss: 0.0038 - accuracy: 1.0000 - val_loss: 2.0126 - val_accuracy: 0.6353\n",
      "Epoch 92/100\n",
      "32/32 [==============================] - 1s 21ms/step - loss: 0.0031 - accuracy: 1.0000 - val_loss: 1.9865 - val_accuracy: 0.6441\n",
      "Epoch 93/100\n",
      "32/32 [==============================] - 1s 21ms/step - loss: 0.0026 - accuracy: 1.0000 - val_loss: 1.9999 - val_accuracy: 0.6412\n",
      "Epoch 94/100\n",
      "32/32 [==============================] - 1s 21ms/step - loss: 0.0033 - accuracy: 1.0000 - val_loss: 1.9788 - val_accuracy: 0.6441\n",
      "Epoch 95/100\n",
      "32/32 [==============================] - 1s 21ms/step - loss: 0.0028 - accuracy: 1.0000 - val_loss: 1.9783 - val_accuracy: 0.6471\n",
      "Epoch 96/100\n",
      "32/32 [==============================] - 1s 21ms/step - loss: 0.0040 - accuracy: 0.9990 - val_loss: 1.9953 - val_accuracy: 0.6382\n",
      "Epoch 97/100\n",
      "32/32 [==============================] - 1s 21ms/step - loss: 0.0018 - accuracy: 1.0000 - val_loss: 2.0050 - val_accuracy: 0.6324\n",
      "Epoch 98/100\n",
      "32/32 [==============================] - 1s 23ms/step - loss: 0.0030 - accuracy: 1.0000 - val_loss: 1.9836 - val_accuracy: 0.6353\n",
      "Epoch 99/100\n",
      "32/32 [==============================] - 1s 23ms/step - loss: 0.0021 - accuracy: 1.0000 - val_loss: 2.0003 - val_accuracy: 0.6382\n",
      "Epoch 100/100\n",
      "32/32 [==============================] - 1s 23ms/step - loss: 0.0023 - accuracy: 1.0000 - val_loss: 1.9982 - val_accuracy: 0.6324\n"
     ]
    }
   ]
  },
  {
   "cell_type": "code",
   "source": [
    "from sklearn.metrics import classification_report\n",
    "\n",
    "print(\"[INFO] evaluating network...\")\n",
    "predictions = model.predict(testX, batch_size=32)\n",
    "print(classification_report(testY.argmax(axis=1), predictions.argmax(axis=1), target_names=class_names))\n",
    "\n",
    "plot_training_loss_and_accuracy_keras(\n",
    "    epoch_num=100,\n",
    "    H=H\n",
    ")"
   ],
   "metadata": {
    "colab": {
     "base_uri": "https://localhost:8080/",
     "height": 928
    },
    "id": "uqVs5izQ0kQD",
    "executionInfo": {
     "status": "ok",
     "timestamp": 1693321536249,
     "user_tz": -60,
     "elapsed": 1037,
     "user": {
      "displayName": "Joseph Sykes",
      "userId": "13195148787507540165"
     }
    },
    "outputId": "dfb13e8a-acad-412f-d1bc-6763e1b00ac7"
   },
   "execution_count": 10,
   "outputs": [
    {
     "output_type": "stream",
     "name": "stdout",
     "text": [
      "[INFO] evaluating network...\n",
      "11/11 [==============================] - 0s 4ms/step\n",
      "              precision    recall  f1-score   support\n",
      "\n",
      "       pansy       0.75      0.75      0.75        20\n",
      "  windflower       0.53      0.43      0.48        23\n",
      "      crocus       0.39      0.44      0.41        16\n",
      "    daffodil       0.33      0.50      0.40        18\n",
      "       tulip       0.50      0.42      0.46        19\n",
      "   buttercup       0.48      0.52      0.50        23\n",
      "        iris       0.89      0.80      0.84        20\n",
      "  colts_foot       0.70      0.70      0.70        27\n",
      "   tigerlily       0.59      0.72      0.65        18\n",
      "   sunflower       0.87      0.68      0.76        19\n",
      "       daisy       0.55      0.69      0.61        16\n",
      "     cowslip       0.85      0.77      0.81        22\n",
      " lily_valley       0.50      0.40      0.44        20\n",
      "    snowdrop       1.00      0.91      0.95        23\n",
      "  fritillary       0.84      0.76      0.80        21\n",
      "   dandelion       0.36      0.27      0.31        15\n",
      "    bluebell       0.62      0.80      0.70        20\n",
      "\n",
      "    accuracy                           0.63       340\n",
      "   macro avg       0.63      0.62      0.62       340\n",
      "weighted avg       0.65      0.63      0.63       340\n",
      "\n"
     ]
    },
    {
     "output_type": "display_data",
     "data": {
      "text/plain": [
       "<Figure size 640x480 with 1 Axes>"
      ],
      "image/png": "[encoded data removed]"
     },
     "metadata": {}
    }
   ]
  }
 ]
}
